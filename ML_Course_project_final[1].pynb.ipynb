{
 "cells": [
  {
   "cell_type": "markdown",
   "id": "886790d1",
   "metadata": {
    "id": "HEzOrd1APlfY",
    "papermill": {
     "duration": 0.016242,
     "end_time": "2022-06-12T03:46:50.569850",
     "exception": false,
     "start_time": "2022-06-12T03:46:50.553608",
     "status": "completed"
    },
    "tags": []
   },
   "source": [
    "### Project title: Abalone Age Prediction\n",
    "\n",
    "### 1. Problem Definition\n",
    "\n",
    "Predict the age of abalone mollusks based on the attributes.\n",
    "\n",
    "> Age is calculated by adding +1.5 to the number of rings.\n",
    "\n",
    "### 2. Features\n",
    "\n",
    "The data consists of 9 features:\n",
    "\n",
    "- Sex (M-Male, F-Female, I-Infant)\n",
    "- Length (longest shell measurement)\n",
    "- Diameter (perpendicular to length)\n",
    "- Height (with meat in shell)\n",
    "- Whole weight (swhole abalone)\n",
    "- Shucked weight (weight of meat)\n",
    "- Viscera weight (gut weight after bleeding)\n",
    "- Shell weight (after being dried)\n",
    "- Rings (+1.5 gives the age in years)\n",
    "\n",
    "### 3. Approach\n",
    "\n",
    "To solve this problem, we are going to do the following steps:\n",
    "\n",
    "- Explore and get familiar with the data\n",
    "- Visualize data\n",
    "- Model data, then clean and transform data to make it suitable for machine learning\n",
    "- Choose a machine learning model and train it\n",
    "- Evaluate the scores\n",
    "- Tune hyperparameters\n",
    "- Evaluate and compare the scores\n",
    "- Visualize the results\n"
   ]
  },
  {
   "cell_type": "code",
   "execution_count": 62,
   "id": "51b88567",
   "metadata": {
    "execution": {
     "iopub.execute_input": "2022-06-12T03:46:50.605162Z",
     "iopub.status.busy": "2022-06-12T03:46:50.604102Z",
     "iopub.status.idle": "2022-06-12T03:46:51.622574Z",
     "shell.execute_reply": "2022-06-12T03:46:51.621508Z"
    },
    "id": "vdRNUqjpN2iy",
    "papermill": {
     "duration": 1.038784,
     "end_time": "2022-06-12T03:46:51.625151",
     "exception": false,
     "start_time": "2022-06-12T03:46:50.586367",
     "status": "completed"
    },
    "tags": []
   },
   "outputs": [],
   "source": [
    "# Import the tools\n",
    "import pandas as pd\n",
    "import numpy as np\n",
    "import matplotlib.pyplot as plt\n",
    "import sklearn\n"
   ]
  },
  {
   "cell_type": "markdown",
   "id": "0e0cde5a",
   "metadata": {
    "id": "H6MsUMEYSj51",
    "papermill": {
     "duration": 0.016299,
     "end_time": "2022-06-12T03:46:51.658183",
     "exception": false,
     "start_time": "2022-06-12T03:46:51.641884",
     "status": "completed"
    },
    "tags": []
   },
   "source": [
    "# Exploratory Data Analysis (EDA)\n"
   ]
  },
  {
   "cell_type": "code",
   "execution_count": 63,
   "id": "25d44340",
   "metadata": {
    "execution": {
     "iopub.execute_input": "2022-06-12T03:46:51.693629Z",
     "iopub.status.busy": "2022-06-12T03:46:51.693212Z",
     "iopub.status.idle": "2022-06-12T03:46:51.716487Z",
     "shell.execute_reply": "2022-06-12T03:46:51.715591Z"
    },
    "id": "DUtvPdRZNLXb",
    "papermill": {
     "duration": 0.043302,
     "end_time": "2022-06-12T03:46:51.718677",
     "exception": false,
     "start_time": "2022-06-12T03:46:51.675375",
     "status": "completed"
    },
    "tags": []
   },
   "outputs": [],
   "source": [
    "# import data\n",
    "data = pd.read_csv(\"abalone.csv\")\n"
   ]
  },
  {
   "cell_type": "code",
   "execution_count": 64,
   "id": "3159d458",
   "metadata": {
    "execution": {
     "iopub.execute_input": "2022-06-12T03:46:51.753703Z",
     "iopub.status.busy": "2022-06-12T03:46:51.752565Z",
     "iopub.status.idle": "2022-06-12T03:46:51.785027Z",
     "shell.execute_reply": "2022-06-12T03:46:51.784268Z"
    },
    "id": "h3gugqNwOVO7",
    "outputId": "74915b1f-b507-41a8-bda6-e9c273e7eae9",
    "papermill": {
     "duration": 0.052131,
     "end_time": "2022-06-12T03:46:51.787311",
     "exception": false,
     "start_time": "2022-06-12T03:46:51.735180",
     "status": "completed"
    },
    "tags": []
   },
   "outputs": [
    {
     "data": {
      "text/html": [
       "<div>\n",
       "<style scoped>\n",
       "    .dataframe tbody tr th:only-of-type {\n",
       "        vertical-align: middle;\n",
       "    }\n",
       "\n",
       "    .dataframe tbody tr th {\n",
       "        vertical-align: top;\n",
       "    }\n",
       "\n",
       "    .dataframe thead th {\n",
       "        text-align: right;\n",
       "    }\n",
       "</style>\n",
       "<table border=\"1\" class=\"dataframe\">\n",
       "  <thead>\n",
       "    <tr style=\"text-align: right;\">\n",
       "      <th></th>\n",
       "      <th>Sex</th>\n",
       "      <th>Length</th>\n",
       "      <th>Diameter</th>\n",
       "      <th>Height</th>\n",
       "      <th>Whole weight</th>\n",
       "      <th>Shucked weight</th>\n",
       "      <th>Viscera weight</th>\n",
       "      <th>Shell weight</th>\n",
       "      <th>Rings</th>\n",
       "    </tr>\n",
       "  </thead>\n",
       "  <tbody>\n",
       "    <tr>\n",
       "      <th>0</th>\n",
       "      <td>M</td>\n",
       "      <td>0.455</td>\n",
       "      <td>0.365</td>\n",
       "      <td>0.095</td>\n",
       "      <td>0.5140</td>\n",
       "      <td>0.2245</td>\n",
       "      <td>0.1010</td>\n",
       "      <td>0.1500</td>\n",
       "      <td>15</td>\n",
       "    </tr>\n",
       "    <tr>\n",
       "      <th>1</th>\n",
       "      <td>M</td>\n",
       "      <td>0.350</td>\n",
       "      <td>0.265</td>\n",
       "      <td>0.090</td>\n",
       "      <td>0.2255</td>\n",
       "      <td>0.0995</td>\n",
       "      <td>0.0485</td>\n",
       "      <td>0.0700</td>\n",
       "      <td>7</td>\n",
       "    </tr>\n",
       "    <tr>\n",
       "      <th>2</th>\n",
       "      <td>F</td>\n",
       "      <td>0.530</td>\n",
       "      <td>0.420</td>\n",
       "      <td>0.135</td>\n",
       "      <td>0.6770</td>\n",
       "      <td>0.2565</td>\n",
       "      <td>0.1415</td>\n",
       "      <td>0.2100</td>\n",
       "      <td>9</td>\n",
       "    </tr>\n",
       "    <tr>\n",
       "      <th>3</th>\n",
       "      <td>M</td>\n",
       "      <td>0.440</td>\n",
       "      <td>0.365</td>\n",
       "      <td>0.125</td>\n",
       "      <td>0.5160</td>\n",
       "      <td>0.2155</td>\n",
       "      <td>0.1140</td>\n",
       "      <td>0.1550</td>\n",
       "      <td>10</td>\n",
       "    </tr>\n",
       "    <tr>\n",
       "      <th>4</th>\n",
       "      <td>I</td>\n",
       "      <td>0.330</td>\n",
       "      <td>0.255</td>\n",
       "      <td>0.080</td>\n",
       "      <td>0.2050</td>\n",
       "      <td>0.0895</td>\n",
       "      <td>0.0395</td>\n",
       "      <td>0.0550</td>\n",
       "      <td>7</td>\n",
       "    </tr>\n",
       "    <tr>\n",
       "      <th>...</th>\n",
       "      <td>...</td>\n",
       "      <td>...</td>\n",
       "      <td>...</td>\n",
       "      <td>...</td>\n",
       "      <td>...</td>\n",
       "      <td>...</td>\n",
       "      <td>...</td>\n",
       "      <td>...</td>\n",
       "      <td>...</td>\n",
       "    </tr>\n",
       "    <tr>\n",
       "      <th>4172</th>\n",
       "      <td>F</td>\n",
       "      <td>0.565</td>\n",
       "      <td>0.450</td>\n",
       "      <td>0.165</td>\n",
       "      <td>0.8870</td>\n",
       "      <td>0.3700</td>\n",
       "      <td>0.2390</td>\n",
       "      <td>0.2490</td>\n",
       "      <td>11</td>\n",
       "    </tr>\n",
       "    <tr>\n",
       "      <th>4173</th>\n",
       "      <td>M</td>\n",
       "      <td>0.590</td>\n",
       "      <td>0.440</td>\n",
       "      <td>0.135</td>\n",
       "      <td>0.9660</td>\n",
       "      <td>0.4390</td>\n",
       "      <td>0.2145</td>\n",
       "      <td>0.2605</td>\n",
       "      <td>10</td>\n",
       "    </tr>\n",
       "    <tr>\n",
       "      <th>4174</th>\n",
       "      <td>M</td>\n",
       "      <td>0.600</td>\n",
       "      <td>0.475</td>\n",
       "      <td>0.205</td>\n",
       "      <td>1.1760</td>\n",
       "      <td>0.5255</td>\n",
       "      <td>0.2875</td>\n",
       "      <td>0.3080</td>\n",
       "      <td>9</td>\n",
       "    </tr>\n",
       "    <tr>\n",
       "      <th>4175</th>\n",
       "      <td>F</td>\n",
       "      <td>0.625</td>\n",
       "      <td>0.485</td>\n",
       "      <td>0.150</td>\n",
       "      <td>1.0945</td>\n",
       "      <td>0.5310</td>\n",
       "      <td>0.2610</td>\n",
       "      <td>0.2960</td>\n",
       "      <td>10</td>\n",
       "    </tr>\n",
       "    <tr>\n",
       "      <th>4176</th>\n",
       "      <td>M</td>\n",
       "      <td>0.710</td>\n",
       "      <td>0.555</td>\n",
       "      <td>0.195</td>\n",
       "      <td>1.9485</td>\n",
       "      <td>0.9455</td>\n",
       "      <td>0.3765</td>\n",
       "      <td>0.4950</td>\n",
       "      <td>12</td>\n",
       "    </tr>\n",
       "  </tbody>\n",
       "</table>\n",
       "<p>4177 rows × 9 columns</p>\n",
       "</div>"
      ],
      "text/plain": [
       "     Sex  Length  Diameter  Height  Whole weight  Shucked weight  \\\n",
       "0      M   0.455     0.365   0.095        0.5140          0.2245   \n",
       "1      M   0.350     0.265   0.090        0.2255          0.0995   \n",
       "2      F   0.530     0.420   0.135        0.6770          0.2565   \n",
       "3      M   0.440     0.365   0.125        0.5160          0.2155   \n",
       "4      I   0.330     0.255   0.080        0.2050          0.0895   \n",
       "...   ..     ...       ...     ...           ...             ...   \n",
       "4172   F   0.565     0.450   0.165        0.8870          0.3700   \n",
       "4173   M   0.590     0.440   0.135        0.9660          0.4390   \n",
       "4174   M   0.600     0.475   0.205        1.1760          0.5255   \n",
       "4175   F   0.625     0.485   0.150        1.0945          0.5310   \n",
       "4176   M   0.710     0.555   0.195        1.9485          0.9455   \n",
       "\n",
       "      Viscera weight  Shell weight  Rings  \n",
       "0             0.1010        0.1500     15  \n",
       "1             0.0485        0.0700      7  \n",
       "2             0.1415        0.2100      9  \n",
       "3             0.1140        0.1550     10  \n",
       "4             0.0395        0.0550      7  \n",
       "...              ...           ...    ...  \n",
       "4172          0.2390        0.2490     11  \n",
       "4173          0.2145        0.2605     10  \n",
       "4174          0.2875        0.3080      9  \n",
       "4175          0.2610        0.2960     10  \n",
       "4176          0.3765        0.4950     12  \n",
       "\n",
       "[4177 rows x 9 columns]"
      ]
     },
     "execution_count": 64,
     "metadata": {},
     "output_type": "execute_result"
    }
   ],
   "source": [
    "# see the whole dataframe\n",
    "data\n"
   ]
  },
  {
   "cell_type": "code",
   "execution_count": null,
   "id": "24bd7f9e",
   "metadata": {},
   "outputs": [],
   "source": []
  },
  {
   "cell_type": "code",
   "execution_count": 65,
   "id": "22d97266",
   "metadata": {
    "execution": {
     "iopub.execute_input": "2022-06-12T03:46:51.823862Z",
     "iopub.status.busy": "2022-06-12T03:46:51.823259Z",
     "iopub.status.idle": "2022-06-12T03:46:51.847404Z",
     "shell.execute_reply": "2022-06-12T03:46:51.846484Z"
    },
    "id": "_XVcCo-uPcw3",
    "outputId": "cc4fe855-f7c1-4bcd-83c2-85408e4cc320",
    "papermill": {
     "duration": 0.045767,
     "end_time": "2022-06-12T03:46:51.850336",
     "exception": false,
     "start_time": "2022-06-12T03:46:51.804569",
     "status": "completed"
    },
    "tags": []
   },
   "outputs": [
    {
     "name": "stdout",
     "output_type": "stream",
     "text": [
      "<class 'pandas.core.frame.DataFrame'>\n",
      "RangeIndex: 4177 entries, 0 to 4176\n",
      "Data columns (total 9 columns):\n",
      " #   Column          Non-Null Count  Dtype  \n",
      "---  ------          --------------  -----  \n",
      " 0   Sex             4177 non-null   object \n",
      " 1   Length          4177 non-null   float64\n",
      " 2   Diameter        4177 non-null   float64\n",
      " 3   Height          4177 non-null   float64\n",
      " 4   Whole weight    4177 non-null   float64\n",
      " 5   Shucked weight  4177 non-null   float64\n",
      " 6   Viscera weight  4177 non-null   float64\n",
      " 7   Shell weight    4177 non-null   float64\n",
      " 8   Rings           4177 non-null   int64  \n",
      "dtypes: float64(7), int64(1), object(1)\n",
      "memory usage: 293.8+ KB\n"
     ]
    }
   ],
   "source": [
    "# check data info\n",
    "data.info()\n"
   ]
  },
  {
   "cell_type": "code",
   "execution_count": 66,
   "id": "6b2b33bc",
   "metadata": {
    "execution": {
     "iopub.execute_input": "2022-06-12T03:46:51.886956Z",
     "iopub.status.busy": "2022-06-12T03:46:51.886565Z",
     "iopub.status.idle": "2022-06-12T03:46:51.895703Z",
     "shell.execute_reply": "2022-06-12T03:46:51.895039Z"
    },
    "id": "97ypEi1qSr91",
    "outputId": "cfaa4263-50be-4c63-ff44-832ce357b3ce",
    "papermill": {
     "duration": 0.028947,
     "end_time": "2022-06-12T03:46:51.897501",
     "exception": false,
     "start_time": "2022-06-12T03:46:51.868554",
     "status": "completed"
    },
    "tags": []
   },
   "outputs": [
    {
     "data": {
      "text/plain": [
       "Sex               0\n",
       "Length            0\n",
       "Diameter          0\n",
       "Height            0\n",
       "Whole weight      0\n",
       "Shucked weight    0\n",
       "Viscera weight    0\n",
       "Shell weight      0\n",
       "Rings             0\n",
       "dtype: int64"
      ]
     },
     "execution_count": 66,
     "metadata": {},
     "output_type": "execute_result"
    }
   ],
   "source": [
    "# Check for missing values\n",
    "data.isna().sum()\n"
   ]
  },
  {
   "cell_type": "code",
   "execution_count": 67,
   "id": "9a29a92d",
   "metadata": {
    "execution": {
     "iopub.execute_input": "2022-06-12T03:46:51.967916Z",
     "iopub.status.busy": "2022-06-12T03:46:51.967222Z",
     "iopub.status.idle": "2022-06-12T03:46:53.784947Z",
     "shell.execute_reply": "2022-06-12T03:46:53.783933Z"
    },
    "id": "OBML69UhS12V",
    "outputId": "618cc3a0-9d4a-4c8b-f423-ba9003eaed2d",
    "papermill": {
     "duration": 1.838338,
     "end_time": "2022-06-12T03:46:53.787115",
     "exception": false,
     "start_time": "2022-06-12T03:46:51.948777",
     "status": "completed"
    },
    "tags": []
   },
   "outputs": [
    {
     "data": {
      "text/plain": [
       "[Text(0.5, 1.0, 'Sex and Nr. of Rings'),\n",
       " Text(0.5, 0, 'Sex'),\n",
       " Text(0, 0.5, 'Number of rings')]"
      ]
     },
     "execution_count": 67,
     "metadata": {},
     "output_type": "execute_result"
    },
    {
     "data": {
      "image/png": "[encoded data removed]",
      "text/plain": [
       "<Figure size 640x480 with 1 Axes>"
      ]
     },
     "metadata": {},
     "output_type": "display_data"
    }
   ],
   "source": [
    "#Plot a graph between Sex and No. of Rings\n",
    "fig, ax = plt.subplots()\n",
    "\n",
    "ax.bar(data[\"Sex\"], data[\"Rings\"], color=\"cyan\")\n",
    "\n",
    "ax.set(title=\"Sex and Nr. of Rings\",\n",
    "       xlabel=\"Sex\",\n",
    "       ylabel=\"Number of rings\")\n"
   ]
  },
  {
   "cell_type": "markdown",
   "id": "f85f69e4",
   "metadata": {
    "id": "e0EtKvP0bE8M",
    "papermill": {
     "duration": 0.017233,
     "end_time": "2022-06-12T03:46:53.821719",
     "exception": false,
     "start_time": "2022-06-12T03:46:53.804486",
     "status": "completed"
    },
    "tags": []
   },
   "source": [
    "### Diameter and Rings scatter plot\n"
   ]
  },
  {
   "cell_type": "code",
   "execution_count": 68,
   "id": "d7cedee4",
   "metadata": {
    "execution": {
     "iopub.execute_input": "2022-06-12T03:46:53.859225Z",
     "iopub.status.busy": "2022-06-12T03:46:53.858456Z",
     "iopub.status.idle": "2022-06-12T03:46:54.201835Z",
     "shell.execute_reply": "2022-06-12T03:46:54.200841Z"
    },
    "id": "eRNar0HzUF3I",
    "outputId": "c0fa2f43-becb-4dc7-ce95-4146e5df361d",
    "papermill": {
     "duration": 0.36494,
     "end_time": "2022-06-12T03:46:54.204228",
     "exception": false,
     "start_time": "2022-06-12T03:46:53.839288",
     "status": "completed"
    },
    "tags": []
   },
   "outputs": [
    {
     "data": {
      "text/plain": [
       "[Text(0.5, 1.0, 'Diameter and Nr. of Rings'),\n",
       " Text(0.5, 0, 'Diameter'),\n",
       " Text(0, 0.5, 'Nr. of Rings')]"
      ]
     },
     "execution_count": 68,
     "metadata": {},
     "output_type": "execute_result"
    },
    {
     "data": {
      "image/png": "[encoded data removed]",
      "text/plain": [
       "<Figure size 640x480 with 1 Axes>"
      ]
     },
     "metadata": {},
     "output_type": "display_data"
    }
   ],
   "source": [
    "#Plotting a scatter plot between the diameter and no. of rings of the abolone \n",
    "fig, ax = plt.subplots()\n",
    "ax.scatter(data[\"Diameter\"][:1000], data[\"Rings\"][:1000], color=\"darkmagenta\")\n",
    "ax.set(title=\"Diameter and Nr. of Rings\",\n",
    "       xlabel=\"Diameter\",\n",
    "       ylabel=\"Nr. of Rings\")\n"
   ]
  },
  {
   "cell_type": "markdown",
   "id": "cf674751",
   "metadata": {
    "id": "3Ab-xwTdcMAs",
    "papermill": {
     "duration": 0.017524,
     "end_time": "2022-06-12T03:46:54.239586",
     "exception": false,
     "start_time": "2022-06-12T03:46:54.222062",
     "status": "completed"
    },
    "tags": []
   },
   "source": [
    "### Whole weight and nr. of rings scatter plot\n",
    "\n",
    "Here we try to find the relationship between whole weight and number of rings\n"
   ]
  },
  {
   "cell_type": "code",
   "execution_count": 69,
   "id": "5164ea9a",
   "metadata": {
    "execution": {
     "iopub.execute_input": "2022-06-12T03:46:54.277098Z",
     "iopub.status.busy": "2022-06-12T03:46:54.276685Z",
     "iopub.status.idle": "2022-06-12T03:46:54.426475Z",
     "shell.execute_reply": "2022-06-12T03:46:54.425466Z"
    },
    "id": "FWrYHxnAVaOs",
    "outputId": "44f7d806-7b76-4221-dd75-72a729506dc7",
    "papermill": {
     "duration": 0.171333,
     "end_time": "2022-06-12T03:46:54.428822",
     "exception": false,
     "start_time": "2022-06-12T03:46:54.257489",
     "status": "completed"
    },
    "tags": []
   },
   "outputs": [
    {
     "data": {
      "text/plain": [
       "[Text(0.5, 1.0, 'Whole weight and Nr. of Rings'),\n",
       " Text(0.5, 0, 'Whole weight'),\n",
       " Text(0, 0.5, 'Number of rings')]"
      ]
     },
     "execution_count": 69,
     "metadata": {},
     "output_type": "execute_result"
    },
    {
     "data": {
      "image/png": "[encoded data removed]",
      "text/plain": [
       "<Figure size 640x480 with 1 Axes>"
      ]
     },
     "metadata": {},
     "output_type": "display_data"
    }
   ],
   "source": [
    "# Create fig, ax\n",
    "fig, ax = plt.subplots()\n",
    "\n",
    "# Create scatter plot of first 1000 data points\n",
    "ax.scatter(data[\"Whole weight\"][:1000], data[\"Rings\"][:1000], color=\"teal\")\n",
    "\n",
    "# Create a legend\n",
    "ax.set(title=\"Whole weight and Nr. of Rings\",\n",
    "       xlabel=\"Whole weight\",\n",
    "       ylabel=\"Number of rings\")\n"
   ]
  },
  {
   "cell_type": "markdown",
   "id": "9ea6c413",
   "metadata": {
    "id": "B-oMdrWIWhvm",
    "papermill": {
     "duration": 0.01848,
     "end_time": "2022-06-12T03:46:56.748337",
     "exception": false,
     "start_time": "2022-06-12T03:46:56.729857",
     "status": "completed"
    },
    "tags": []
   },
   "source": [
    "**Conclusion** : We can see from the data visualization that larger the diameter and weight of an abalone shell, the more likely it is to have more rings. Female molluscs also have a slight tendency to live longer than male molluscs.\n",
    "\n",
    "## Data Preprocessing\n",
    "\n",
    "Here is what we have to do:\n",
    "\n",
    "- Make sure there are no missing values\n",
    "- Make sure all our data is numerical\n",
    "- Create `Age` column\n",
    "- Drop `Rings` column\n"
   ]
  },
  {
   "cell_type": "code",
   "execution_count": 70,
   "id": "75605f3a",
   "metadata": {
    "execution": {
     "iopub.execute_input": "2022-06-12T03:46:56.787936Z",
     "iopub.status.busy": "2022-06-12T03:46:56.787020Z",
     "iopub.status.idle": "2022-06-12T03:46:56.795666Z",
     "shell.execute_reply": "2022-06-12T03:46:56.794743Z"
    },
    "id": "THukkKtQiGeL",
    "outputId": "92c98eb2-17a7-48be-9442-2e6ff2103cdd",
    "papermill": {
     "duration": 0.030446,
     "end_time": "2022-06-12T03:46:56.797585",
     "exception": false,
     "start_time": "2022-06-12T03:46:56.767139",
     "status": "completed"
    },
    "tags": []
   },
   "outputs": [
    {
     "data": {
      "text/plain": [
       "Sex               0\n",
       "Length            0\n",
       "Diameter          0\n",
       "Height            0\n",
       "Whole weight      0\n",
       "Shucked weight    0\n",
       "Viscera weight    0\n",
       "Shell weight      0\n",
       "Rings             0\n",
       "dtype: int64"
      ]
     },
     "execution_count": 70,
     "metadata": {},
     "output_type": "execute_result"
    }
   ],
   "source": [
    "#Ensuring there are no missing values\n",
    "data.isna().sum()\n"
   ]
  },
  {
   "cell_type": "code",
   "execution_count": 71,
   "id": "624e020e",
   "metadata": {
    "execution": {
     "iopub.execute_input": "2022-06-12T03:46:56.876129Z",
     "iopub.status.busy": "2022-06-12T03:46:56.875422Z",
     "iopub.status.idle": "2022-06-12T03:46:56.888591Z",
     "shell.execute_reply": "2022-06-12T03:46:56.887549Z"
    },
    "id": "jmeu6GX6irDS",
    "outputId": "d2d8a29c-eba8-4c81-b866-255d9b3a50ca",
    "papermill": {
     "duration": 0.035605,
     "end_time": "2022-06-12T03:46:56.890719",
     "exception": false,
     "start_time": "2022-06-12T03:46:56.855114",
     "status": "completed"
    },
    "tags": []
   },
   "outputs": [
    {
     "name": "stdout",
     "output_type": "stream",
     "text": [
      "<class 'pandas.core.frame.DataFrame'>\n",
      "RangeIndex: 4177 entries, 0 to 4176\n",
      "Data columns (total 9 columns):\n",
      " #   Column          Non-Null Count  Dtype  \n",
      "---  ------          --------------  -----  \n",
      " 0   Sex             4177 non-null   object \n",
      " 1   Length          4177 non-null   float64\n",
      " 2   Diameter        4177 non-null   float64\n",
      " 3   Height          4177 non-null   float64\n",
      " 4   Whole weight    4177 non-null   float64\n",
      " 5   Shucked weight  4177 non-null   float64\n",
      " 6   Viscera weight  4177 non-null   float64\n",
      " 7   Shell weight    4177 non-null   float64\n",
      " 8   Rings           4177 non-null   int64  \n",
      "dtypes: float64(7), int64(1), object(1)\n",
      "memory usage: 293.8+ KB\n"
     ]
    }
   ],
   "source": [
    "data.info()\n"
   ]
  },
  {
   "cell_type": "markdown",
   "id": "bd8e34bb",
   "metadata": {},
   "source": [
    "Here above we see that the gender column is not set to a numerical value, so we use some label encoding to rectify that.\n"
   ]
  },
  {
   "cell_type": "markdown",
   "id": "cc998677",
   "metadata": {
    "id": "hbHAJjCHbsOJ",
    "papermill": {
     "duration": 0.020534,
     "end_time": "2022-06-12T03:46:57.258267",
     "exception": false,
     "start_time": "2022-06-12T03:46:57.237733",
     "status": "completed"
    },
    "tags": []
   },
   "source": [
    "### Label encoding\n"
   ]
  },
  {
   "cell_type": "code",
   "execution_count": 72,
   "id": "25959ac1",
   "metadata": {
    "execution": {
     "iopub.execute_input": "2022-06-12T03:46:57.299376Z",
     "iopub.status.busy": "2022-06-12T03:46:57.298960Z",
     "iopub.status.idle": "2022-06-12T03:46:57.335820Z",
     "shell.execute_reply": "2022-06-12T03:46:57.334967Z"
    },
    "id": "uXg4K1tRMuYy",
    "papermill": {
     "duration": 0.060122,
     "end_time": "2022-06-12T03:46:57.338224",
     "exception": false,
     "start_time": "2022-06-12T03:46:57.278102",
     "status": "completed"
    },
    "tags": []
   },
   "outputs": [],
   "source": [
    "#Encoding/converting object(M/F/I) to numerical format\n",
    "from sklearn.preprocessing import LabelEncoder\n",
    "\n",
    "l_encoder = LabelEncoder()\n",
    "data[\"Sex\"] = l_encoder.fit_transform(data[\"Sex\"])"
   ]
  },
  {
   "cell_type": "code",
   "execution_count": 73,
   "id": "011891f3",
   "metadata": {
    "execution": {
     "iopub.execute_input": "2022-06-12T03:46:57.379250Z",
     "iopub.status.busy": "2022-06-12T03:46:57.378834Z",
     "iopub.status.idle": "2022-06-12T03:46:57.394047Z",
     "shell.execute_reply": "2022-06-12T03:46:57.393085Z"
    },
    "id": "fnJMaJajrmpw",
    "outputId": "78ea6d78-d332-4dfd-d72b-e5e3746437e1",
    "papermill": {
     "duration": 0.038381,
     "end_time": "2022-06-12T03:46:57.396195",
     "exception": false,
     "start_time": "2022-06-12T03:46:57.357814",
     "status": "completed"
    },
    "tags": []
   },
   "outputs": [
    {
     "data": {
      "text/html": [
       "<div>\n",
       "<style scoped>\n",
       "    .dataframe tbody tr th:only-of-type {\n",
       "        vertical-align: middle;\n",
       "    }\n",
       "\n",
       "    .dataframe tbody tr th {\n",
       "        vertical-align: top;\n",
       "    }\n",
       "\n",
       "    .dataframe thead th {\n",
       "        text-align: right;\n",
       "    }\n",
       "</style>\n",
       "<table border=\"1\" class=\"dataframe\">\n",
       "  <thead>\n",
       "    <tr style=\"text-align: right;\">\n",
       "      <th></th>\n",
       "      <th>Sex</th>\n",
       "      <th>Length</th>\n",
       "      <th>Diameter</th>\n",
       "      <th>Height</th>\n",
       "      <th>Whole weight</th>\n",
       "      <th>Shucked weight</th>\n",
       "      <th>Viscera weight</th>\n",
       "      <th>Shell weight</th>\n",
       "      <th>Rings</th>\n",
       "    </tr>\n",
       "  </thead>\n",
       "  <tbody>\n",
       "    <tr>\n",
       "      <th>0</th>\n",
       "      <td>2</td>\n",
       "      <td>0.455</td>\n",
       "      <td>0.365</td>\n",
       "      <td>0.095</td>\n",
       "      <td>0.5140</td>\n",
       "      <td>0.2245</td>\n",
       "      <td>0.1010</td>\n",
       "      <td>0.150</td>\n",
       "      <td>15</td>\n",
       "    </tr>\n",
       "    <tr>\n",
       "      <th>1</th>\n",
       "      <td>2</td>\n",
       "      <td>0.350</td>\n",
       "      <td>0.265</td>\n",
       "      <td>0.090</td>\n",
       "      <td>0.2255</td>\n",
       "      <td>0.0995</td>\n",
       "      <td>0.0485</td>\n",
       "      <td>0.070</td>\n",
       "      <td>7</td>\n",
       "    </tr>\n",
       "    <tr>\n",
       "      <th>2</th>\n",
       "      <td>0</td>\n",
       "      <td>0.530</td>\n",
       "      <td>0.420</td>\n",
       "      <td>0.135</td>\n",
       "      <td>0.6770</td>\n",
       "      <td>0.2565</td>\n",
       "      <td>0.1415</td>\n",
       "      <td>0.210</td>\n",
       "      <td>9</td>\n",
       "    </tr>\n",
       "    <tr>\n",
       "      <th>3</th>\n",
       "      <td>2</td>\n",
       "      <td>0.440</td>\n",
       "      <td>0.365</td>\n",
       "      <td>0.125</td>\n",
       "      <td>0.5160</td>\n",
       "      <td>0.2155</td>\n",
       "      <td>0.1140</td>\n",
       "      <td>0.155</td>\n",
       "      <td>10</td>\n",
       "    </tr>\n",
       "    <tr>\n",
       "      <th>4</th>\n",
       "      <td>1</td>\n",
       "      <td>0.330</td>\n",
       "      <td>0.255</td>\n",
       "      <td>0.080</td>\n",
       "      <td>0.2050</td>\n",
       "      <td>0.0895</td>\n",
       "      <td>0.0395</td>\n",
       "      <td>0.055</td>\n",
       "      <td>7</td>\n",
       "    </tr>\n",
       "  </tbody>\n",
       "</table>\n",
       "</div>"
      ],
      "text/plain": [
       "   Sex  Length  Diameter  Height  Whole weight  Shucked weight  \\\n",
       "0    2   0.455     0.365   0.095        0.5140          0.2245   \n",
       "1    2   0.350     0.265   0.090        0.2255          0.0995   \n",
       "2    0   0.530     0.420   0.135        0.6770          0.2565   \n",
       "3    2   0.440     0.365   0.125        0.5160          0.2155   \n",
       "4    1   0.330     0.255   0.080        0.2050          0.0895   \n",
       "\n",
       "   Viscera weight  Shell weight  Rings  \n",
       "0          0.1010         0.150     15  \n",
       "1          0.0485         0.070      7  \n",
       "2          0.1415         0.210      9  \n",
       "3          0.1140         0.155     10  \n",
       "4          0.0395         0.055      7  "
      ]
     },
     "execution_count": 73,
     "metadata": {},
     "output_type": "execute_result"
    }
   ],
   "source": [
    "#Converted data being displayed\n",
    "data.head()"
   ]
  },
  {
   "cell_type": "code",
   "execution_count": 74,
   "id": "5a7f3048",
   "metadata": {
    "execution": {
     "iopub.execute_input": "2022-06-12T03:46:57.439224Z",
     "iopub.status.busy": "2022-06-12T03:46:57.438584Z",
     "iopub.status.idle": "2022-06-12T03:46:57.450502Z",
     "shell.execute_reply": "2022-06-12T03:46:57.449245Z"
    },
    "id": "yFOMhxO_Dp4f",
    "outputId": "915895a7-2faa-4bef-c25e-664d57ee21f4",
    "papermill": {
     "duration": 0.035805,
     "end_time": "2022-06-12T03:46:57.452869",
     "exception": false,
     "start_time": "2022-06-12T03:46:57.417064",
     "status": "completed"
    },
    "tags": []
   },
   "outputs": [
    {
     "name": "stdout",
     "output_type": "stream",
     "text": [
      "<class 'pandas.core.frame.DataFrame'>\n",
      "RangeIndex: 4177 entries, 0 to 4176\n",
      "Data columns (total 9 columns):\n",
      " #   Column          Non-Null Count  Dtype  \n",
      "---  ------          --------------  -----  \n",
      " 0   Sex             4177 non-null   int64  \n",
      " 1   Length          4177 non-null   float64\n",
      " 2   Diameter        4177 non-null   float64\n",
      " 3   Height          4177 non-null   float64\n",
      " 4   Whole weight    4177 non-null   float64\n",
      " 5   Shucked weight  4177 non-null   float64\n",
      " 6   Viscera weight  4177 non-null   float64\n",
      " 7   Shell weight    4177 non-null   float64\n",
      " 8   Rings           4177 non-null   int64  \n",
      "dtypes: float64(7), int64(2)\n",
      "memory usage: 293.8 KB\n"
     ]
    }
   ],
   "source": [
    "data.info()\n"
   ]
  },
  {
   "cell_type": "markdown",
   "id": "cc61c40e",
   "metadata": {
    "id": "jdt4gbxprql3",
    "papermill": {
     "duration": 0.019661,
     "end_time": "2022-06-12T03:46:57.531801",
     "exception": false,
     "start_time": "2022-06-12T03:46:57.512140",
     "status": "completed"
    },
    "tags": []
   },
   "source": [
    "Our initial task was to determine the age of the abalone based on the number of rings. We know that age is determined by the number of rings + 1.5. Therefore, we need to create a new [\"Age\"] column in our data and drop the [\"Rings\"] column.\n"
   ]
  },
  {
   "cell_type": "code",
   "execution_count": 75,
   "id": "e6eb77f0",
   "metadata": {
    "execution": {
     "iopub.execute_input": "2022-06-12T03:46:57.573094Z",
     "iopub.status.busy": "2022-06-12T03:46:57.572397Z",
     "iopub.status.idle": "2022-06-12T03:46:57.580740Z",
     "shell.execute_reply": "2022-06-12T03:46:57.580058Z"
    },
    "id": "Jhjf5jlHsEfz",
    "papermill": {
     "duration": 0.031321,
     "end_time": "2022-06-12T03:46:57.582776",
     "exception": false,
     "start_time": "2022-06-12T03:46:57.551455",
     "status": "completed"
    },
    "tags": []
   },
   "outputs": [],
   "source": [
    "#Converting the Parameter(no. of rings) to parameter(age)\n",
    "data[\"Age\"] = data[\"Rings\"] + 1.5\n",
    "data.drop(\"Rings\", axis=1, inplace=True)\n"
   ]
  },
  {
   "cell_type": "code",
   "execution_count": 76,
   "id": "62880dc2",
   "metadata": {
    "execution": {
     "iopub.execute_input": "2022-06-12T03:46:57.624290Z",
     "iopub.status.busy": "2022-06-12T03:46:57.623830Z",
     "iopub.status.idle": "2022-06-12T03:46:57.641425Z",
     "shell.execute_reply": "2022-06-12T03:46:57.640433Z"
    },
    "id": "qafwRLQIsNLz",
    "outputId": "d352df9e-3bbe-4701-aa2a-d8383a2b1092",
    "papermill": {
     "duration": 0.041148,
     "end_time": "2022-06-12T03:46:57.643646",
     "exception": false,
     "start_time": "2022-06-12T03:46:57.602498",
     "status": "completed"
    },
    "tags": []
   },
   "outputs": [
    {
     "data": {
      "text/html": [
       "<div>\n",
       "<style scoped>\n",
       "    .dataframe tbody tr th:only-of-type {\n",
       "        vertical-align: middle;\n",
       "    }\n",
       "\n",
       "    .dataframe tbody tr th {\n",
       "        vertical-align: top;\n",
       "    }\n",
       "\n",
       "    .dataframe thead th {\n",
       "        text-align: right;\n",
       "    }\n",
       "</style>\n",
       "<table border=\"1\" class=\"dataframe\">\n",
       "  <thead>\n",
       "    <tr style=\"text-align: right;\">\n",
       "      <th></th>\n",
       "      <th>Sex</th>\n",
       "      <th>Length</th>\n",
       "      <th>Diameter</th>\n",
       "      <th>Height</th>\n",
       "      <th>Whole weight</th>\n",
       "      <th>Shucked weight</th>\n",
       "      <th>Viscera weight</th>\n",
       "      <th>Shell weight</th>\n",
       "      <th>Age</th>\n",
       "    </tr>\n",
       "  </thead>\n",
       "  <tbody>\n",
       "    <tr>\n",
       "      <th>0</th>\n",
       "      <td>2</td>\n",
       "      <td>0.455</td>\n",
       "      <td>0.365</td>\n",
       "      <td>0.095</td>\n",
       "      <td>0.5140</td>\n",
       "      <td>0.2245</td>\n",
       "      <td>0.1010</td>\n",
       "      <td>0.150</td>\n",
       "      <td>16.5</td>\n",
       "    </tr>\n",
       "    <tr>\n",
       "      <th>1</th>\n",
       "      <td>2</td>\n",
       "      <td>0.350</td>\n",
       "      <td>0.265</td>\n",
       "      <td>0.090</td>\n",
       "      <td>0.2255</td>\n",
       "      <td>0.0995</td>\n",
       "      <td>0.0485</td>\n",
       "      <td>0.070</td>\n",
       "      <td>8.5</td>\n",
       "    </tr>\n",
       "    <tr>\n",
       "      <th>2</th>\n",
       "      <td>0</td>\n",
       "      <td>0.530</td>\n",
       "      <td>0.420</td>\n",
       "      <td>0.135</td>\n",
       "      <td>0.6770</td>\n",
       "      <td>0.2565</td>\n",
       "      <td>0.1415</td>\n",
       "      <td>0.210</td>\n",
       "      <td>10.5</td>\n",
       "    </tr>\n",
       "    <tr>\n",
       "      <th>3</th>\n",
       "      <td>2</td>\n",
       "      <td>0.440</td>\n",
       "      <td>0.365</td>\n",
       "      <td>0.125</td>\n",
       "      <td>0.5160</td>\n",
       "      <td>0.2155</td>\n",
       "      <td>0.1140</td>\n",
       "      <td>0.155</td>\n",
       "      <td>11.5</td>\n",
       "    </tr>\n",
       "    <tr>\n",
       "      <th>4</th>\n",
       "      <td>1</td>\n",
       "      <td>0.330</td>\n",
       "      <td>0.255</td>\n",
       "      <td>0.080</td>\n",
       "      <td>0.2050</td>\n",
       "      <td>0.0895</td>\n",
       "      <td>0.0395</td>\n",
       "      <td>0.055</td>\n",
       "      <td>8.5</td>\n",
       "    </tr>\n",
       "  </tbody>\n",
       "</table>\n",
       "</div>"
      ],
      "text/plain": [
       "   Sex  Length  Diameter  Height  Whole weight  Shucked weight  \\\n",
       "0    2   0.455     0.365   0.095        0.5140          0.2245   \n",
       "1    2   0.350     0.265   0.090        0.2255          0.0995   \n",
       "2    0   0.530     0.420   0.135        0.6770          0.2565   \n",
       "3    2   0.440     0.365   0.125        0.5160          0.2155   \n",
       "4    1   0.330     0.255   0.080        0.2050          0.0895   \n",
       "\n",
       "   Viscera weight  Shell weight   Age  \n",
       "0          0.1010         0.150  16.5  \n",
       "1          0.0485         0.070   8.5  \n",
       "2          0.1415         0.210  10.5  \n",
       "3          0.1140         0.155  11.5  \n",
       "4          0.0395         0.055   8.5  "
      ]
     },
     "execution_count": 76,
     "metadata": {},
     "output_type": "execute_result"
    }
   ],
   "source": [
    "data.head()\n"
   ]
  },
  {
   "cell_type": "markdown",
   "id": "27d70274",
   "metadata": {
    "id": "wNVzeT9xsMyp",
    "papermill": {
     "duration": 0.019958,
     "end_time": "2022-06-12T03:46:57.684062",
     "exception": false,
     "start_time": "2022-06-12T03:46:57.664104",
     "status": "completed"
    },
    "tags": []
   },
   "source": [
    "## Build a machine learning model\n"
   ]
  },
  {
   "cell_type": "code",
   "execution_count": 77,
   "id": "03d49e81",
   "metadata": {
    "execution": {
     "iopub.execute_input": "2022-06-12T03:46:57.726153Z",
     "iopub.status.busy": "2022-06-12T03:46:57.725693Z",
     "iopub.status.idle": "2022-06-12T03:46:57.731516Z",
     "shell.execute_reply": "2022-06-12T03:46:57.730530Z"
    },
    "id": "w2oy7hZxW6TB",
    "papermill": {
     "duration": 0.029237,
     "end_time": "2022-06-12T03:46:57.733530",
     "exception": false,
     "start_time": "2022-06-12T03:46:57.704293",
     "status": "completed"
    },
    "tags": []
   },
   "outputs": [],
   "source": [
    "# Split data into X and y\n",
    "X = data.drop(\"Age\", axis=1)\n",
    "y = data[\"Age\"]"
   ]
  },
  {
   "cell_type": "code",
   "execution_count": 78,
   "id": "4b227dce",
   "metadata": {},
   "outputs": [
    {
     "data": {
      "text/html": [
       "<div>\n",
       "<style scoped>\n",
       "    .dataframe tbody tr th:only-of-type {\n",
       "        vertical-align: middle;\n",
       "    }\n",
       "\n",
       "    .dataframe tbody tr th {\n",
       "        vertical-align: top;\n",
       "    }\n",
       "\n",
       "    .dataframe thead th {\n",
       "        text-align: right;\n",
       "    }\n",
       "</style>\n",
       "<table border=\"1\" class=\"dataframe\">\n",
       "  <thead>\n",
       "    <tr style=\"text-align: right;\">\n",
       "      <th></th>\n",
       "      <th>Sex</th>\n",
       "      <th>Length</th>\n",
       "      <th>Diameter</th>\n",
       "      <th>Height</th>\n",
       "      <th>Whole weight</th>\n",
       "      <th>Shucked weight</th>\n",
       "      <th>Viscera weight</th>\n",
       "      <th>Shell weight</th>\n",
       "    </tr>\n",
       "  </thead>\n",
       "  <tbody>\n",
       "    <tr>\n",
       "      <th>0</th>\n",
       "      <td>2</td>\n",
       "      <td>0.455</td>\n",
       "      <td>0.365</td>\n",
       "      <td>0.095</td>\n",
       "      <td>0.5140</td>\n",
       "      <td>0.2245</td>\n",
       "      <td>0.1010</td>\n",
       "      <td>0.150</td>\n",
       "    </tr>\n",
       "    <tr>\n",
       "      <th>1</th>\n",
       "      <td>2</td>\n",
       "      <td>0.350</td>\n",
       "      <td>0.265</td>\n",
       "      <td>0.090</td>\n",
       "      <td>0.2255</td>\n",
       "      <td>0.0995</td>\n",
       "      <td>0.0485</td>\n",
       "      <td>0.070</td>\n",
       "    </tr>\n",
       "    <tr>\n",
       "      <th>2</th>\n",
       "      <td>0</td>\n",
       "      <td>0.530</td>\n",
       "      <td>0.420</td>\n",
       "      <td>0.135</td>\n",
       "      <td>0.6770</td>\n",
       "      <td>0.2565</td>\n",
       "      <td>0.1415</td>\n",
       "      <td>0.210</td>\n",
       "    </tr>\n",
       "    <tr>\n",
       "      <th>3</th>\n",
       "      <td>2</td>\n",
       "      <td>0.440</td>\n",
       "      <td>0.365</td>\n",
       "      <td>0.125</td>\n",
       "      <td>0.5160</td>\n",
       "      <td>0.2155</td>\n",
       "      <td>0.1140</td>\n",
       "      <td>0.155</td>\n",
       "    </tr>\n",
       "    <tr>\n",
       "      <th>4</th>\n",
       "      <td>1</td>\n",
       "      <td>0.330</td>\n",
       "      <td>0.255</td>\n",
       "      <td>0.080</td>\n",
       "      <td>0.2050</td>\n",
       "      <td>0.0895</td>\n",
       "      <td>0.0395</td>\n",
       "      <td>0.055</td>\n",
       "    </tr>\n",
       "  </tbody>\n",
       "</table>\n",
       "</div>"
      ],
      "text/plain": [
       "   Sex  Length  Diameter  Height  Whole weight  Shucked weight  \\\n",
       "0    2   0.455     0.365   0.095        0.5140          0.2245   \n",
       "1    2   0.350     0.265   0.090        0.2255          0.0995   \n",
       "2    0   0.530     0.420   0.135        0.6770          0.2565   \n",
       "3    2   0.440     0.365   0.125        0.5160          0.2155   \n",
       "4    1   0.330     0.255   0.080        0.2050          0.0895   \n",
       "\n",
       "   Viscera weight  Shell weight  \n",
       "0          0.1010         0.150  \n",
       "1          0.0485         0.070  \n",
       "2          0.1415         0.210  \n",
       "3          0.1140         0.155  \n",
       "4          0.0395         0.055  "
      ]
     },
     "execution_count": 78,
     "metadata": {},
     "output_type": "execute_result"
    }
   ],
   "source": [
    "X.head()\n"
   ]
  },
  {
   "cell_type": "markdown",
   "metadata": {},
   "source": [
    "1, 0.490, 0.395, 0.185, 0.4160, 0.2455, 0.1320, 0.175"
   ]
  },
  {
   "cell_type": "code",
   "execution_count": 79,
   "id": "63ea3c95",
   "metadata": {},
   "outputs": [
    {
     "data": {
      "text/plain": [
       "0    16.5\n",
       "1     8.5\n",
       "2    10.5\n",
       "3    11.5\n",
       "4     8.5\n",
       "Name: Age, dtype: float64"
      ]
     },
     "execution_count": 79,
     "metadata": {},
     "output_type": "execute_result"
    }
   ],
   "source": [
    "#Displaying Y head - Age\n",
    "y.head()\n"
   ]
  },
  {
   "cell_type": "code",
   "execution_count": 80,
   "id": "cb795bff",
   "metadata": {
    "execution": {
     "iopub.execute_input": "2022-06-12T03:46:57.937571Z",
     "iopub.status.busy": "2022-06-12T03:46:57.937142Z",
     "iopub.status.idle": "2022-06-12T03:46:58.004836Z",
     "shell.execute_reply": "2022-06-12T03:46:58.004129Z"
    },
    "id": "gxjonlvrYSp6",
    "papermill": {
     "duration": 0.091905,
     "end_time": "2022-06-12T03:46:58.007092",
     "exception": false,
     "start_time": "2022-06-12T03:46:57.915187",
     "status": "completed"
    },
    "tags": []
   },
   "outputs": [],
   "source": [
    "#Splitting the model into 80-20 Train-test split\n",
    "from sklearn.model_selection import train_test_split\n",
    "\n",
    "X_train, X_test, y_train, y_test = train_test_split(X,\n",
    "                                                    y,\n",
    "                                                    test_size=0.2,  # test_size=0.2 means that we use 20% of data for test set\n",
    "                                                    random_state=14)  # we choose a random number for random_state to make our results reproducable\n"
   ]
  },
  {
   "cell_type": "code",
   "execution_count": 81,
   "id": "f471008e",
   "metadata": {
    "execution": {
     "iopub.execute_input": "2022-06-12T03:46:58.051614Z",
     "iopub.status.busy": "2022-06-12T03:46:58.050720Z",
     "iopub.status.idle": "2022-06-12T03:46:58.056156Z",
     "shell.execute_reply": "2022-06-12T03:46:58.055549Z"
    },
    "id": "PalaNr36Yqhn",
    "outputId": "c892a61b-e781-4958-8742-6e4f00a1cec6",
    "papermill": {
     "duration": 0.029006,
     "end_time": "2022-06-12T03:46:58.057875",
     "exception": false,
     "start_time": "2022-06-12T03:46:58.028869",
     "status": "completed"
    },
    "tags": []
   },
   "outputs": [
    {
     "data": {
      "text/plain": [
       "(3341, 3341, 836, 836)"
      ]
     },
     "execution_count": 81,
     "metadata": {},
     "output_type": "execute_result"
    }
   ],
   "source": [
    "len(X_train), len(y_train), len(X_test), len(y_test)\n"
   ]
  },
  {
   "cell_type": "markdown",
   "id": "74d483d5",
   "metadata": {},
   "source": [
    "# Choosing a model\n",
    "\n",
    "## 1. Random Forest Regressor\n"
   ]
  },
  {
   "cell_type": "code",
   "execution_count": 82,
   "id": "3b73f508",
   "metadata": {},
   "outputs": [],
   "source": [
    "# import model\n",
    "from sklearn.ensemble import RandomForestRegressor\n",
    "\n",
    "# instantiate model\n",
    "rf = RandomForestRegressor(n_jobs=-1,  # n_jobs=-1 means that we are using all computer power to fit the model\n",
    "                           random_state=14)\n"
   ]
  },
  {
   "cell_type": "markdown",
   "id": "18dc6533",
   "metadata": {},
   "source": [
    "Accuracy Metrics:\n",
    "\n",
    "1. Mean Absolute Error (MAE)\n",
    "2. Mean Square Error (MSE)\n",
    "3. Root Mean Square Error (RMSE)\n",
    "4. R2 Score\n"
   ]
  },
  {
   "cell_type": "code",
   "execution_count": 83,
   "id": "6aeb6c55",
   "metadata": {},
   "outputs": [],
   "source": [
    "# import the evaluation metrics\n",
    "from sklearn.metrics import mean_absolute_error, r2_score, mean_squared_log_error\n",
    "\n",
    "# create an evaluation function\n",
    "\n",
    "\n",
    "def show_score(model):\n",
    "    train_preds = model.predict(X_train)\n",
    "    test_preds = model.predict(X_test)\n",
    "    scores = {\"Training MAE\": mean_absolute_error(y_train, train_preds),\n",
    "              \"Test MAE\": mean_absolute_error(y_test, test_preds),\n",
    "              \"Training MSE\": mean_squared_log_error(y_train, train_preds),\n",
    "              \"Test MSE\": mean_squared_log_error(y_test, test_preds),\n",
    "              \"Training RMSE\": np.sqrt(mean_squared_log_error(y_train, train_preds)),\n",
    "              \"Test RMSE\": np.sqrt(mean_squared_log_error(y_test, test_preds)),\n",
    "              \"Training R2\": r2_score(y_train, train_preds),\n",
    "              \"Test R2\": r2_score(y_test, test_preds)}\n",
    "    return scores\n"
   ]
  },
  {
   "cell_type": "code",
   "execution_count": 84,
   "id": "761ac9a8",
   "metadata": {},
   "outputs": [
    {
     "data": {
      "text/html": [
       "<style>#sk-container-id-5 {color: black;}#sk-container-id-5 pre{padding: 0;}#sk-container-id-5 div.sk-toggleable {background-color: white;}#sk-container-id-5 label.sk-toggleable__label {cursor: pointer;display: block;width: 100%;margin-bottom: 0;padding: 0.3em;box-sizing: border-box;text-align: center;}#sk-container-id-5 label.sk-toggleable__label-arrow:before {content: \"▸\";float: left;margin-right: 0.25em;color: #696969;}#sk-container-id-5 label.sk-toggleable__label-arrow:hover:before {color: black;}#sk-container-id-5 div.sk-estimator:hover label.sk-toggleable__label-arrow:before {color: black;}#sk-container-id-5 div.sk-toggleable__content {max-height: 0;max-width: 0;overflow: hidden;text-align: left;background-color: #f0f8ff;}#sk-container-id-5 div.sk-toggleable__content pre {margin: 0.2em;color: black;border-radius: 0.25em;background-color: #f0f8ff;}#sk-container-id-5 input.sk-toggleable__control:checked~div.sk-toggleable__content {max-height: 200px;max-width: 100%;overflow: auto;}#sk-container-id-5 input.sk-toggleable__control:checked~label.sk-toggleable__label-arrow:before {content: \"▾\";}#sk-container-id-5 div.sk-estimator input.sk-toggleable__control:checked~label.sk-toggleable__label {background-color: #d4ebff;}#sk-container-id-5 div.sk-label input.sk-toggleable__control:checked~label.sk-toggleable__label {background-color: #d4ebff;}#sk-container-id-5 input.sk-hidden--visually {border: 0;clip: rect(1px 1px 1px 1px);clip: rect(1px, 1px, 1px, 1px);height: 1px;margin: -1px;overflow: hidden;padding: 0;position: absolute;width: 1px;}#sk-container-id-5 div.sk-estimator {font-family: monospace;background-color: #f0f8ff;border: 1px dotted black;border-radius: 0.25em;box-sizing: border-box;margin-bottom: 0.5em;}#sk-container-id-5 div.sk-estimator:hover {background-color: #d4ebff;}#sk-container-id-5 div.sk-parallel-item::after {content: \"\";width: 100%;border-bottom: 1px solid gray;flex-grow: 1;}#sk-container-id-5 div.sk-label:hover label.sk-toggleable__label {background-color: #d4ebff;}#sk-container-id-5 div.sk-serial::before {content: \"\";position: absolute;border-left: 1px solid gray;box-sizing: border-box;top: 0;bottom: 0;left: 50%;z-index: 0;}#sk-container-id-5 div.sk-serial {display: flex;flex-direction: column;align-items: center;background-color: white;padding-right: 0.2em;padding-left: 0.2em;position: relative;}#sk-container-id-5 div.sk-item {position: relative;z-index: 1;}#sk-container-id-5 div.sk-parallel {display: flex;align-items: stretch;justify-content: center;background-color: white;position: relative;}#sk-container-id-5 div.sk-item::before, #sk-container-id-5 div.sk-parallel-item::before {content: \"\";position: absolute;border-left: 1px solid gray;box-sizing: border-box;top: 0;bottom: 0;left: 50%;z-index: -1;}#sk-container-id-5 div.sk-parallel-item {display: flex;flex-direction: column;z-index: 1;position: relative;background-color: white;}#sk-container-id-5 div.sk-parallel-item:first-child::after {align-self: flex-end;width: 50%;}#sk-container-id-5 div.sk-parallel-item:last-child::after {align-self: flex-start;width: 50%;}#sk-container-id-5 div.sk-parallel-item:only-child::after {width: 0;}#sk-container-id-5 div.sk-dashed-wrapped {border: 1px dashed gray;margin: 0 0.4em 0.5em 0.4em;box-sizing: border-box;padding-bottom: 0.4em;background-color: white;}#sk-container-id-5 div.sk-label label {font-family: monospace;font-weight: bold;display: inline-block;line-height: 1.2em;}#sk-container-id-5 div.sk-label-container {text-align: center;}#sk-container-id-5 div.sk-container {/* jupyter's `normalize.less` sets `[hidden] { display: none; }` but bootstrap.min.css set `[hidden] { display: none !important; }` so we also need the `!important` here to be able to override the default hidden behavior on the sphinx rendered scikit-learn.org. See: https://github.com/scikit-learn/scikit-learn/issues/21755 */display: inline-block !important;position: relative;}#sk-container-id-5 div.sk-text-repr-fallback {display: none;}</style><div id=\"sk-container-id-5\" class=\"sk-top-container\"><div class=\"sk-text-repr-fallback\"><pre>RandomForestRegressor(n_jobs=-1, random_state=14)</pre><b>In a Jupyter environment, please rerun this cell to show the HTML representation or trust the notebook. <br />On GitHub, the HTML representation is unable to render, please try loading this page with nbviewer.org.</b></div><div class=\"sk-container\" hidden><div class=\"sk-item\"><div class=\"sk-estimator sk-toggleable\"><input class=\"sk-toggleable__control sk-hidden--visually\" id=\"sk-estimator-id-7\" type=\"checkbox\" checked><label for=\"sk-estimator-id-7\" class=\"sk-toggleable__label sk-toggleable__label-arrow\">RandomForestRegressor</label><div class=\"sk-toggleable__content\"><pre>RandomForestRegressor(n_jobs=-1, random_state=14)</pre></div></div></div></div></div>"
      ],
      "text/plain": [
       "RandomForestRegressor(n_jobs=-1, random_state=14)"
      ]
     },
     "execution_count": 84,
     "metadata": {},
     "output_type": "execute_result"
    }
   ],
   "source": [
    "# fit the model\n",
    "rf.fit(X_train, y_train)\n"
   ]
  },
  {
   "cell_type": "code",
   "execution_count": 85,
   "id": "d9e47a52",
   "metadata": {},
   "outputs": [
    {
     "data": {
      "text/plain": [
       "{'Training MAE': 0.5804040706375337,\n",
       " 'Test MAE': 1.5157296650717704,\n",
       " 'Training MSE': 0.003402556410425284,\n",
       " 'Test MSE': 0.024190290175117212,\n",
       " 'Training RMSE': 0.058331435868023036,\n",
       " 'Test RMSE': 0.1555322801707646,\n",
       " 'Training R2': 0.9357057341721267,\n",
       " 'Test R2': 0.5253587245211205}"
      ]
     },
     "execution_count": 85,
     "metadata": {},
     "output_type": "execute_result"
    }
   ],
   "source": [
    "show_score(rf)"
   ]
  },
  {
   "cell_type": "markdown",
   "id": "ab085be1",
   "metadata": {},
   "source": [
    "We can see the training accuracy is higher than test data.\n"
   ]
  },
  {
   "cell_type": "code",
   "execution_count": 86,
   "id": "6960a019",
   "metadata": {},
   "outputs": [
    {
     "data": {
      "text/plain": [
       "<matplotlib.legend.Legend at 0x28ae5db50>"
      ]
     },
     "execution_count": 86,
     "metadata": {},
     "output_type": "execute_result"
    },
    {
     "data": {
      "image/png": "[encoded data removed]",
      "text/plain": [
       "<Figure size 1000x600 with 1 Axes>"
      ]
     },
     "metadata": {},
     "output_type": "display_data"
    }
   ],
   "source": [
    "# Predict the labels on test data\n",
    "test_preds = rf.predict(X_test)\n",
    "\n",
    "# Visualize predictions vs true labels\n",
    "fig = plt.figure(figsize=(10, 6))\n",
    "plt.scatter(range(y_test.shape[0]), y_test, color=\"salmon\", label=\"y_test\")\n",
    "plt.scatter(range(y_test.shape[0]), test_preds,\n",
    "            color=\"skyblue\", label=\"test_preds\")\n",
    "plt.legend()"
   ]
  },
  {
   "cell_type": "code",
   "execution_count": 87,
   "id": "7ce6dbac",
   "metadata": {},
   "outputs": [
    {
     "name": "stdout",
     "output_type": "stream",
     "text": [
      "\n",
      " Predicted data the for the input from the user is: [11.93] \n",
      "\n"
     ]
    },
    {
     "name": "stderr",
     "output_type": "stream",
     "text": [
      "/opt/homebrew/lib/python3.11/site-packages/sklearn/base.py:464: UserWarning: X does not have valid feature names, but RandomForestRegressor was fitted with feature names\n",
      "  warnings.warn(\n"
     ]
    }
   ],
   "source": [
    "# Predict the labels on input data from user\n",
    "input_data_rf = np.array([[1, 0.490, 0.395, 0.185, 0.4160, 0.2455, 0.1320, 0.175]])\n",
    "predictionrf = rf.predict(input_data_rf)\n",
    "\n",
    "print(\"\\n Predicted data the for the input from the user is:\", predictionrf, \"\\n\")"
   ]
  },
  {
   "cell_type": "markdown",
   "id": "732c1f8e",
   "metadata": {},
   "source": [
    "## Hyperparameter Tuning\n",
    "\n",
    "### We have used Random search grid using sklearn's RandomizedSearchCV.\n"
   ]
  },
  {
   "cell_type": "code",
   "execution_count": 88,
   "id": "377bf4eb",
   "metadata": {},
   "outputs": [
    {
     "name": "stdout",
     "output_type": "stream",
     "text": [
      "Current parameters:\n",
      "{'bootstrap': True,\n",
      " 'ccp_alpha': 0.0,\n",
      " 'criterion': 'squared_error',\n",
      " 'max_depth': None,\n",
      " 'max_features': 1.0,\n",
      " 'max_leaf_nodes': None,\n",
      " 'max_samples': None,\n",
      " 'min_impurity_decrease': 0.0,\n",
      " 'min_samples_leaf': 1,\n",
      " 'min_samples_split': 2,\n",
      " 'min_weight_fraction_leaf': 0.0,\n",
      " 'n_estimators': 100,\n",
      " 'n_jobs': -1,\n",
      " 'oob_score': False,\n",
      " 'random_state': 14,\n",
      " 'verbose': 0,\n",
      " 'warm_start': False}\n"
     ]
    }
   ],
   "source": [
    "# Check current parameters\n",
    "from pprint import pprint\n",
    "\n",
    "print(\"Current parameters:\")\n",
    "pprint(rf.get_params())\n"
   ]
  },
  {
   "cell_type": "code",
   "execution_count": 89,
   "id": "f800471f",
   "metadata": {},
   "outputs": [
    {
     "name": "stdout",
     "output_type": "stream",
     "text": [
      "Fitting 5 folds for each of 100 candidates, totalling 500 fits\n"
     ]
    },
    {
     "name": "stderr",
     "output_type": "stream",
     "text": [
      "/opt/homebrew/lib/python3.11/site-packages/sklearn/model_selection/_validation.py:425: FitFailedWarning: \n",
      "110 fits failed out of a total of 500.\n",
      "The score on these train-test partitions for these parameters will be set to nan.\n",
      "If these failures are not expected, you can try to debug them by setting error_score='raise'.\n",
      "\n",
      "Below are more details about the failures:\n",
      "--------------------------------------------------------------------------------\n",
      "110 fits failed with the following error:\n",
      "Traceback (most recent call last):\n",
      "  File \"/opt/homebrew/lib/python3.11/site-packages/sklearn/model_selection/_validation.py\", line 732, in _fit_and_score\n",
      "    estimator.fit(X_train, y_train, **fit_params)\n",
      "  File \"/opt/homebrew/lib/python3.11/site-packages/sklearn/base.py\", line 1144, in wrapper\n",
      "    estimator._validate_params()\n",
      "  File \"/opt/homebrew/lib/python3.11/site-packages/sklearn/base.py\", line 637, in _validate_params\n",
      "    validate_parameter_constraints(\n",
      "  File \"/opt/homebrew/lib/python3.11/site-packages/sklearn/utils/_param_validation.py\", line 95, in validate_parameter_constraints\n",
      "    raise InvalidParameterError(\n",
      "sklearn.utils._param_validation.InvalidParameterError: The 'max_features' parameter of RandomForestRegressor must be an int in the range [1, inf), a float in the range (0.0, 1.0], a str among {'sqrt', 'log2'} or None. Got 'auto' instead.\n",
      "\n",
      "  warnings.warn(some_fits_failed_message, FitFailedWarning)\n",
      "/opt/homebrew/lib/python3.11/site-packages/sklearn/model_selection/_search.py:976: UserWarning: One or more of the test scores are non-finite: [0.35151609 0.48166526 0.38150207 0.55542896 0.38150207 0.35151609\n",
      "        nan 0.38192206 0.29919451 0.35640669 0.29743389 0.47637229\n",
      " 0.36255951 0.36190799 0.47835631        nan        nan        nan\n",
      " 0.38192206 0.38054077        nan 0.54686519 0.4350509  0.43356638\n",
      " 0.47925221 0.5117933  0.36188951        nan 0.55060125 0.52327178\n",
      "        nan 0.3001774  0.52327178 0.36260752        nan        nan\n",
      " 0.51016822        nan        nan 0.52897185 0.28094644 0.29164619\n",
      "        nan 0.35151609 0.53195326 0.51053141 0.38150207 0.36190799\n",
      " 0.53011374        nan 0.34721955 0.54775118        nan 0.34721473\n",
      " 0.51031895 0.3618281  0.38192206 0.36257332        nan 0.3001774\n",
      " 0.52011224 0.4339956  0.29991204 0.47916593        nan 0.47948787\n",
      " 0.54756217 0.53444074        nan 0.51252117 0.43335447        nan\n",
      " 0.54686519 0.53798316 0.53611019 0.38150207 0.47886123        nan\n",
      " 0.36260752 0.27799358 0.55013727 0.53166702 0.38054077 0.43292836\n",
      "        nan 0.3618281  0.43368297 0.38192206 0.43978161 0.29743389\n",
      " 0.34965067 0.36257332 0.53662991        nan 0.53850578 0.5258025\n",
      " 0.38054077 0.36255951        nan 0.5468498 ]\n",
      "  warnings.warn(\n"
     ]
    },
    {
     "data": {
      "text/html": [
       "<style>#sk-container-id-6 {color: black;}#sk-container-id-6 pre{padding: 0;}#sk-container-id-6 div.sk-toggleable {background-color: white;}#sk-container-id-6 label.sk-toggleable__label {cursor: pointer;display: block;width: 100%;margin-bottom: 0;padding: 0.3em;box-sizing: border-box;text-align: center;}#sk-container-id-6 label.sk-toggleable__label-arrow:before {content: \"▸\";float: left;margin-right: 0.25em;color: #696969;}#sk-container-id-6 label.sk-toggleable__label-arrow:hover:before {color: black;}#sk-container-id-6 div.sk-estimator:hover label.sk-toggleable__label-arrow:before {color: black;}#sk-container-id-6 div.sk-toggleable__content {max-height: 0;max-width: 0;overflow: hidden;text-align: left;background-color: #f0f8ff;}#sk-container-id-6 div.sk-toggleable__content pre {margin: 0.2em;color: black;border-radius: 0.25em;background-color: #f0f8ff;}#sk-container-id-6 input.sk-toggleable__control:checked~div.sk-toggleable__content {max-height: 200px;max-width: 100%;overflow: auto;}#sk-container-id-6 input.sk-toggleable__control:checked~label.sk-toggleable__label-arrow:before {content: \"▾\";}#sk-container-id-6 div.sk-estimator input.sk-toggleable__control:checked~label.sk-toggleable__label {background-color: #d4ebff;}#sk-container-id-6 div.sk-label input.sk-toggleable__control:checked~label.sk-toggleable__label {background-color: #d4ebff;}#sk-container-id-6 input.sk-hidden--visually {border: 0;clip: rect(1px 1px 1px 1px);clip: rect(1px, 1px, 1px, 1px);height: 1px;margin: -1px;overflow: hidden;padding: 0;position: absolute;width: 1px;}#sk-container-id-6 div.sk-estimator {font-family: monospace;background-color: #f0f8ff;border: 1px dotted black;border-radius: 0.25em;box-sizing: border-box;margin-bottom: 0.5em;}#sk-container-id-6 div.sk-estimator:hover {background-color: #d4ebff;}#sk-container-id-6 div.sk-parallel-item::after {content: \"\";width: 100%;border-bottom: 1px solid gray;flex-grow: 1;}#sk-container-id-6 div.sk-label:hover label.sk-toggleable__label {background-color: #d4ebff;}#sk-container-id-6 div.sk-serial::before {content: \"\";position: absolute;border-left: 1px solid gray;box-sizing: border-box;top: 0;bottom: 0;left: 50%;z-index: 0;}#sk-container-id-6 div.sk-serial {display: flex;flex-direction: column;align-items: center;background-color: white;padding-right: 0.2em;padding-left: 0.2em;position: relative;}#sk-container-id-6 div.sk-item {position: relative;z-index: 1;}#sk-container-id-6 div.sk-parallel {display: flex;align-items: stretch;justify-content: center;background-color: white;position: relative;}#sk-container-id-6 div.sk-item::before, #sk-container-id-6 div.sk-parallel-item::before {content: \"\";position: absolute;border-left: 1px solid gray;box-sizing: border-box;top: 0;bottom: 0;left: 50%;z-index: -1;}#sk-container-id-6 div.sk-parallel-item {display: flex;flex-direction: column;z-index: 1;position: relative;background-color: white;}#sk-container-id-6 div.sk-parallel-item:first-child::after {align-self: flex-end;width: 50%;}#sk-container-id-6 div.sk-parallel-item:last-child::after {align-self: flex-start;width: 50%;}#sk-container-id-6 div.sk-parallel-item:only-child::after {width: 0;}#sk-container-id-6 div.sk-dashed-wrapped {border: 1px dashed gray;margin: 0 0.4em 0.5em 0.4em;box-sizing: border-box;padding-bottom: 0.4em;background-color: white;}#sk-container-id-6 div.sk-label label {font-family: monospace;font-weight: bold;display: inline-block;line-height: 1.2em;}#sk-container-id-6 div.sk-label-container {text-align: center;}#sk-container-id-6 div.sk-container {/* jupyter's `normalize.less` sets `[hidden] { display: none; }` but bootstrap.min.css set `[hidden] { display: none !important; }` so we also need the `!important` here to be able to override the default hidden behavior on the sphinx rendered scikit-learn.org. See: https://github.com/scikit-learn/scikit-learn/issues/21755 */display: inline-block !important;position: relative;}#sk-container-id-6 div.sk-text-repr-fallback {display: none;}</style><div id=\"sk-container-id-6\" class=\"sk-top-container\"><div class=\"sk-text-repr-fallback\"><pre>RandomizedSearchCV(cv=5,\n",
       "                   estimator=RandomForestRegressor(n_jobs=-1, random_state=14),\n",
       "                   n_iter=100,\n",
       "                   param_distributions={&#x27;max_depth&#x27;: [None, 1, 2, 5],\n",
       "                                        &#x27;max_features&#x27;: [0.5, 1, &#x27;auto&#x27;,\n",
       "                                                         &#x27;sqrt&#x27;],\n",
       "                                        &#x27;min_samples_leaf&#x27;: [1, 2, 3, 5],\n",
       "                                        &#x27;min_samples_split&#x27;: [2, 5, 10],\n",
       "                                        &#x27;n_estimators&#x27;: [20, 100, 200]},\n",
       "                   verbose=True)</pre><b>In a Jupyter environment, please rerun this cell to show the HTML representation or trust the notebook. <br />On GitHub, the HTML representation is unable to render, please try loading this page with nbviewer.org.</b></div><div class=\"sk-container\" hidden><div class=\"sk-item sk-dashed-wrapped\"><div class=\"sk-label-container\"><div class=\"sk-label sk-toggleable\"><input class=\"sk-toggleable__control sk-hidden--visually\" id=\"sk-estimator-id-8\" type=\"checkbox\" ><label for=\"sk-estimator-id-8\" class=\"sk-toggleable__label sk-toggleable__label-arrow\">RandomizedSearchCV</label><div class=\"sk-toggleable__content\"><pre>RandomizedSearchCV(cv=5,\n",
       "                   estimator=RandomForestRegressor(n_jobs=-1, random_state=14),\n",
       "                   n_iter=100,\n",
       "                   param_distributions={&#x27;max_depth&#x27;: [None, 1, 2, 5],\n",
       "                                        &#x27;max_features&#x27;: [0.5, 1, &#x27;auto&#x27;,\n",
       "                                                         &#x27;sqrt&#x27;],\n",
       "                                        &#x27;min_samples_leaf&#x27;: [1, 2, 3, 5],\n",
       "                                        &#x27;min_samples_split&#x27;: [2, 5, 10],\n",
       "                                        &#x27;n_estimators&#x27;: [20, 100, 200]},\n",
       "                   verbose=True)</pre></div></div></div><div class=\"sk-parallel\"><div class=\"sk-parallel-item\"><div class=\"sk-item\"><div class=\"sk-label-container\"><div class=\"sk-label sk-toggleable\"><input class=\"sk-toggleable__control sk-hidden--visually\" id=\"sk-estimator-id-9\" type=\"checkbox\" ><label for=\"sk-estimator-id-9\" class=\"sk-toggleable__label sk-toggleable__label-arrow\">estimator: RandomForestRegressor</label><div class=\"sk-toggleable__content\"><pre>RandomForestRegressor(n_jobs=-1, random_state=14)</pre></div></div></div><div class=\"sk-serial\"><div class=\"sk-item\"><div class=\"sk-estimator sk-toggleable\"><input class=\"sk-toggleable__control sk-hidden--visually\" id=\"sk-estimator-id-10\" type=\"checkbox\" ><label for=\"sk-estimator-id-10\" class=\"sk-toggleable__label sk-toggleable__label-arrow\">RandomForestRegressor</label><div class=\"sk-toggleable__content\"><pre>RandomForestRegressor(n_jobs=-1, random_state=14)</pre></div></div></div></div></div></div></div></div></div></div>"
      ],
      "text/plain": [
       "RandomizedSearchCV(cv=5,\n",
       "                   estimator=RandomForestRegressor(n_jobs=-1, random_state=14),\n",
       "                   n_iter=100,\n",
       "                   param_distributions={'max_depth': [None, 1, 2, 5],\n",
       "                                        'max_features': [0.5, 1, 'auto',\n",
       "                                                         'sqrt'],\n",
       "                                        'min_samples_leaf': [1, 2, 3, 5],\n",
       "                                        'min_samples_split': [2, 5, 10],\n",
       "                                        'n_estimators': [20, 100, 200]},\n",
       "                   verbose=True)"
      ]
     },
     "execution_count": 89,
     "metadata": {},
     "output_type": "execute_result"
    }
   ],
   "source": [
    "from sklearn.model_selection import RandomizedSearchCV\n",
    "\n",
    "rf_grid = {\"n_estimators\": [20, 100, 200],\n",
    "           \"max_depth\": [None, 1, 2, 5],\n",
    "           \"max_features\": [0.5, 1, \"auto\", \"sqrt\"],\n",
    "           \"min_samples_split\": [2, 5, 10],\n",
    "           \"min_samples_leaf\": [1, 2, 3, 5]}\n",
    "\n",
    "rs_model = RandomizedSearchCV(RandomForestRegressor(n_jobs=-1,\n",
    "                                                    random_state=14),\n",
    "                              param_distributions=rf_grid,\n",
    "                              n_iter=100,  # n_iter = 100 means that the model will fit 100 for different combinations of parameters\n",
    "                              cv=5,  # number of cross-validation folds for each set of parameters\n",
    "                              verbose=True)  # requesting more elaborate output in the log\n",
    "\n",
    "rs_model.fit(X_train, y_train)\n"
   ]
  },
  {
   "cell_type": "code",
   "execution_count": 90,
   "id": "e061d002",
   "metadata": {},
   "outputs": [
    {
     "data": {
      "text/plain": [
       "{'n_estimators': 200,\n",
       " 'min_samples_split': 2,\n",
       " 'min_samples_leaf': 5,\n",
       " 'max_features': 0.5,\n",
       " 'max_depth': None}"
      ]
     },
     "execution_count": 90,
     "metadata": {},
     "output_type": "execute_result"
    }
   ],
   "source": [
    "rs_model.best_params_ # get the best params obtained from GridSearch"
   ]
  },
  {
   "cell_type": "code",
   "execution_count": 91,
   "id": "4f3d7308",
   "metadata": {},
   "outputs": [
    {
     "data": {
      "text/plain": [
       "{'Training MAE': 1.0869830304390524,\n",
       " 'Test MAE': 1.4465399853303944,\n",
       " 'Training MSE': 0.01197486305331431,\n",
       " 'Test MSE': 0.022058291718686993,\n",
       " 'Training RMSE': 0.1094297174140293,\n",
       " 'Test RMSE': 0.14852034109402992,\n",
       " 'Training R2': 0.7661319724202019,\n",
       " 'Test R2': 0.5649512179927476}"
      ]
     },
     "execution_count": 91,
     "metadata": {},
     "output_type": "execute_result"
    }
   ],
   "source": [
    "ideal_model = RandomForestRegressor(n_estimators = 100, min_samples_split = 2, min_samples_leaf=5, max_features= 0.5, max_depth = None)\n",
    "ideal_model.fit(X_train, y_train)\n",
    "rf_score = show_score(ideal_model)\n",
    "rf_score"
   ]
  },
  {
   "cell_type": "code",
   "execution_count": 92,
   "id": "c1a723b9",
   "metadata": {},
   "outputs": [
    {
     "data": {
      "text/plain": [
       "{'Training MAE': 0.5804040706375337,\n",
       " 'Test MAE': 1.5157296650717704,\n",
       " 'Training MSE': 0.003402556410425284,\n",
       " 'Test MSE': 0.024190290175117212,\n",
       " 'Training RMSE': 0.058331435868023036,\n",
       " 'Test RMSE': 0.1555322801707646,\n",
       " 'Training R2': 0.9357057341721267,\n",
       " 'Test R2': 0.5253587245211205}"
      ]
     },
     "execution_count": 92,
     "metadata": {},
     "output_type": "execute_result"
    }
   ],
   "source": [
    "# Score of original RandomForest model\n",
    "show_score(rf)"
   ]
  },
  {
   "cell_type": "markdown",
   "id": "6a723d73",
   "metadata": {},
   "source": [
    "#### Result: Hence, Random Forest is not upto the mark for the Abalone dataset. Thus, we move on to explore other models\n"
   ]
  },
  {
   "cell_type": "markdown",
   "id": "d68f6877",
   "metadata": {},
   "source": [
    "### Gradient Boosting\n"
   ]
  },
  {
   "cell_type": "code",
   "execution_count": 93,
   "id": "2798c381",
   "metadata": {},
   "outputs": [
    {
     "data": {
      "text/html": [
       "<style>#sk-container-id-7 {color: black;}#sk-container-id-7 pre{padding: 0;}#sk-container-id-7 div.sk-toggleable {background-color: white;}#sk-container-id-7 label.sk-toggleable__label {cursor: pointer;display: block;width: 100%;margin-bottom: 0;padding: 0.3em;box-sizing: border-box;text-align: center;}#sk-container-id-7 label.sk-toggleable__label-arrow:before {content: \"▸\";float: left;margin-right: 0.25em;color: #696969;}#sk-container-id-7 label.sk-toggleable__label-arrow:hover:before {color: black;}#sk-container-id-7 div.sk-estimator:hover label.sk-toggleable__label-arrow:before {color: black;}#sk-container-id-7 div.sk-toggleable__content {max-height: 0;max-width: 0;overflow: hidden;text-align: left;background-color: #f0f8ff;}#sk-container-id-7 div.sk-toggleable__content pre {margin: 0.2em;color: black;border-radius: 0.25em;background-color: #f0f8ff;}#sk-container-id-7 input.sk-toggleable__control:checked~div.sk-toggleable__content {max-height: 200px;max-width: 100%;overflow: auto;}#sk-container-id-7 input.sk-toggleable__control:checked~label.sk-toggleable__label-arrow:before {content: \"▾\";}#sk-container-id-7 div.sk-estimator input.sk-toggleable__control:checked~label.sk-toggleable__label {background-color: #d4ebff;}#sk-container-id-7 div.sk-label input.sk-toggleable__control:checked~label.sk-toggleable__label {background-color: #d4ebff;}#sk-container-id-7 input.sk-hidden--visually {border: 0;clip: rect(1px 1px 1px 1px);clip: rect(1px, 1px, 1px, 1px);height: 1px;margin: -1px;overflow: hidden;padding: 0;position: absolute;width: 1px;}#sk-container-id-7 div.sk-estimator {font-family: monospace;background-color: #f0f8ff;border: 1px dotted black;border-radius: 0.25em;box-sizing: border-box;margin-bottom: 0.5em;}#sk-container-id-7 div.sk-estimator:hover {background-color: #d4ebff;}#sk-container-id-7 div.sk-parallel-item::after {content: \"\";width: 100%;border-bottom: 1px solid gray;flex-grow: 1;}#sk-container-id-7 div.sk-label:hover label.sk-toggleable__label {background-color: #d4ebff;}#sk-container-id-7 div.sk-serial::before {content: \"\";position: absolute;border-left: 1px solid gray;box-sizing: border-box;top: 0;bottom: 0;left: 50%;z-index: 0;}#sk-container-id-7 div.sk-serial {display: flex;flex-direction: column;align-items: center;background-color: white;padding-right: 0.2em;padding-left: 0.2em;position: relative;}#sk-container-id-7 div.sk-item {position: relative;z-index: 1;}#sk-container-id-7 div.sk-parallel {display: flex;align-items: stretch;justify-content: center;background-color: white;position: relative;}#sk-container-id-7 div.sk-item::before, #sk-container-id-7 div.sk-parallel-item::before {content: \"\";position: absolute;border-left: 1px solid gray;box-sizing: border-box;top: 0;bottom: 0;left: 50%;z-index: -1;}#sk-container-id-7 div.sk-parallel-item {display: flex;flex-direction: column;z-index: 1;position: relative;background-color: white;}#sk-container-id-7 div.sk-parallel-item:first-child::after {align-self: flex-end;width: 50%;}#sk-container-id-7 div.sk-parallel-item:last-child::after {align-self: flex-start;width: 50%;}#sk-container-id-7 div.sk-parallel-item:only-child::after {width: 0;}#sk-container-id-7 div.sk-dashed-wrapped {border: 1px dashed gray;margin: 0 0.4em 0.5em 0.4em;box-sizing: border-box;padding-bottom: 0.4em;background-color: white;}#sk-container-id-7 div.sk-label label {font-family: monospace;font-weight: bold;display: inline-block;line-height: 1.2em;}#sk-container-id-7 div.sk-label-container {text-align: center;}#sk-container-id-7 div.sk-container {/* jupyter's `normalize.less` sets `[hidden] { display: none; }` but bootstrap.min.css set `[hidden] { display: none !important; }` so we also need the `!important` here to be able to override the default hidden behavior on the sphinx rendered scikit-learn.org. See: https://github.com/scikit-learn/scikit-learn/issues/21755 */display: inline-block !important;position: relative;}#sk-container-id-7 div.sk-text-repr-fallback {display: none;}</style><div id=\"sk-container-id-7\" class=\"sk-top-container\"><div class=\"sk-text-repr-fallback\"><pre>GradientBoostingRegressor()</pre><b>In a Jupyter environment, please rerun this cell to show the HTML representation or trust the notebook. <br />On GitHub, the HTML representation is unable to render, please try loading this page with nbviewer.org.</b></div><div class=\"sk-container\" hidden><div class=\"sk-item\"><div class=\"sk-estimator sk-toggleable\"><input class=\"sk-toggleable__control sk-hidden--visually\" id=\"sk-estimator-id-11\" type=\"checkbox\" checked><label for=\"sk-estimator-id-11\" class=\"sk-toggleable__label sk-toggleable__label-arrow\">GradientBoostingRegressor</label><div class=\"sk-toggleable__content\"><pre>GradientBoostingRegressor()</pre></div></div></div></div></div>"
      ],
      "text/plain": [
       "GradientBoostingRegressor()"
      ]
     },
     "execution_count": 93,
     "metadata": {},
     "output_type": "execute_result"
    }
   ],
   "source": [
    "# Gradient Boosting\n",
    "from sklearn.ensemble import GradientBoostingRegressor\n",
    "gbr = GradientBoostingRegressor()\n",
    "gbr.fit(X_train, y_train)\n"
   ]
  },
  {
   "cell_type": "code",
   "execution_count": 94,
   "id": "eeacc691",
   "metadata": {},
   "outputs": [
    {
     "data": {
      "text/plain": [
       "{'Training MAE': 1.3657546068704591,\n",
       " 'Test MAE': 1.477227503454939,\n",
       " 'Training MSE': 0.01879283231535459,\n",
       " 'Test MSE': 0.023566395458248072,\n",
       " 'Training RMSE': 0.13708695165972065,\n",
       " 'Test RMSE': 0.1535135025274587,\n",
       " 'Training R2': 0.6601099784599969,\n",
       " 'Test R2': 0.5345914521684378}"
      ]
     },
     "execution_count": 94,
     "metadata": {},
     "output_type": "execute_result"
    }
   ],
   "source": [
    "show_score(gbr)"
   ]
  },
  {
   "cell_type": "code",
   "execution_count": 96,
   "id": "c33205d7",
   "metadata": {},
   "outputs": [
    {
     "data": {
      "text/plain": [
       "dict_keys(['alpha', 'ccp_alpha', 'criterion', 'init', 'learning_rate', 'loss', 'max_depth', 'max_features', 'max_leaf_nodes', 'min_impurity_decrease', 'min_samples_leaf', 'min_samples_split', 'min_weight_fraction_leaf', 'n_estimators', 'n_iter_no_change', 'random_state', 'subsample', 'tol', 'validation_fraction', 'verbose', 'warm_start'])"
      ]
     },
     "execution_count": 96,
     "metadata": {},
     "output_type": "execute_result"
    }
   ],
   "source": [
    "gbr.get_params().keys()"
   ]
  },
  {
   "cell_type": "code",
   "execution_count": 97,
   "id": "006329c2",
   "metadata": {},
   "outputs": [
    {
     "name": "stdout",
     "output_type": "stream",
     "text": [
      "Fitting 5 folds for each of 100 candidates, totalling 500 fits\n"
     ]
    },
    {
     "name": "stderr",
     "output_type": "stream",
     "text": [
      "/opt/homebrew/lib/python3.11/site-packages/sklearn/model_selection/_validation.py:425: FitFailedWarning: \n",
      "110 fits failed out of a total of 500.\n",
      "The score on these train-test partitions for these parameters will be set to nan.\n",
      "If these failures are not expected, you can try to debug them by setting error_score='raise'.\n",
      "\n",
      "Below are more details about the failures:\n",
      "--------------------------------------------------------------------------------\n",
      "110 fits failed with the following error:\n",
      "Traceback (most recent call last):\n",
      "  File \"/opt/homebrew/lib/python3.11/site-packages/sklearn/model_selection/_validation.py\", line 732, in _fit_and_score\n",
      "    estimator.fit(X_train, y_train, **fit_params)\n",
      "  File \"/opt/homebrew/lib/python3.11/site-packages/sklearn/base.py\", line 1144, in wrapper\n",
      "    estimator._validate_params()\n",
      "  File \"/opt/homebrew/lib/python3.11/site-packages/sklearn/base.py\", line 637, in _validate_params\n",
      "    validate_parameter_constraints(\n",
      "  File \"/opt/homebrew/lib/python3.11/site-packages/sklearn/utils/_param_validation.py\", line 95, in validate_parameter_constraints\n",
      "    raise InvalidParameterError(\n",
      "sklearn.utils._param_validation.InvalidParameterError: The 'max_features' parameter of GradientBoostingRegressor must be an int in the range [1, inf), a float in the range (0.0, 1.0], a str among {'sqrt', 'log2'} or None. Got 'auto' instead.\n",
      "\n",
      "  warnings.warn(some_fits_failed_message, FitFailedWarning)\n",
      "/opt/homebrew/lib/python3.11/site-packages/sklearn/model_selection/_search.py:976: UserWarning: One or more of the test scores are non-finite: [       nan 0.52373804 0.53881998 0.53962257 0.48727103 0.53564168\n",
      " 0.5037496  0.46005937 0.53057143 0.52941107        nan 0.47060701\n",
      " 0.53463062        nan 0.50424362 0.44368312        nan 0.41458779\n",
      " 0.4229884         nan 0.53230764 0.50494721        nan 0.5178798\n",
      " 0.40561486        nan 0.49162257 0.32695083 0.37332031        nan\n",
      " 0.50076903 0.34474155 0.5262902  0.34474155 0.47067936 0.48385339\n",
      "        nan 0.37332031        nan 0.50528828        nan 0.53027257\n",
      " 0.54224057 0.49358432        nan 0.53764258 0.53230764 0.37332031\n",
      " 0.51050242 0.53485637 0.54154349        nan 0.40594738 0.43468311\n",
      " 0.52742694 0.53572311        nan 0.49716173 0.4911733  0.37332031\n",
      " 0.50527821 0.47218712 0.5167412  0.43459541 0.50588046 0.50340364\n",
      " 0.48870798 0.43464785 0.34474155 0.42105766 0.53042192 0.40594738\n",
      " 0.54134517 0.50519097        nan        nan        nan 0.50534977\n",
      " 0.33759043 0.39631049        nan 0.50507594 0.40462252 0.5384566\n",
      " 0.49207629        nan 0.54326339 0.33759043 0.32695083        nan\n",
      " 0.50710882 0.44311582 0.53644993 0.52195168 0.50848726        nan\n",
      " 0.49620838 0.53106042        nan 0.48362102]\n",
      "  warnings.warn(\n"
     ]
    },
    {
     "data": {
      "text/plain": [
       "{'n_estimators': 100,\n",
       " 'min_samples_split': 5,\n",
       " 'min_samples_leaf': 2,\n",
       " 'max_features': 0.5,\n",
       " 'max_depth': 5}"
      ]
     },
     "execution_count": 97,
     "metadata": {},
     "output_type": "execute_result"
    }
   ],
   "source": [
    "gbr_grid = {\"n_estimators\": [20, 100, 200],\n",
    "           \"max_depth\": [None, 1, 2, 5],\n",
    "           \"max_features\": [0.5, 1, \"auto\", \"sqrt\"],\n",
    "           \"min_samples_split\": [2, 5, 10],\n",
    "           \"min_samples_leaf\": [1, 2, 3, 5]}\n",
    "\n",
    "gbs_model = RandomizedSearchCV(GradientBoostingRegressor(random_state=14),\n",
    "                              param_distributions=gbr_grid,\n",
    "                              n_iter=100,  # n_iter = 100 means that the model will fit 100 for different combinations of parameters\n",
    "                              cv=5,  # number of cross-validation folds for each set of parameters\n",
    "                              verbose=True)  # requesting more elaborate output in the log\n",
    "\n",
    "gbs_model.fit(X_train, y_train)\n",
    "\n",
    "gbs_model.best_params_ # get the best params obtained from GridSearch"
   ]
  },
  {
   "cell_type": "code",
   "execution_count": 98,
   "id": "932ad92d",
   "metadata": {},
   "outputs": [
    {
     "data": {
      "text/plain": [
       "{'Training MAE': 1.1915828343438615,\n",
       " 'Test MAE': 1.4638689240330316,\n",
       " 'Training MSE': 0.014364887003133068,\n",
       " 'Test MSE': 0.022839620077080278,\n",
       " 'Training RMSE': 0.11985360655037906,\n",
       " 'Test RMSE': 0.15112782694487564,\n",
       " 'Training R2': 0.7437087761011492,\n",
       " 'Test R2': 0.5468695006164538}"
      ]
     },
     "execution_count": 98,
     "metadata": {},
     "output_type": "execute_result"
    }
   ],
   "source": [
    "ideal_model = GradientBoostingRegressor(n_estimators = 100, min_samples_split = 10, min_samples_leaf=5, max_features= 0.5, max_depth = 5)\n",
    "ideal_model.fit(X_train, y_train)\n",
    "gbr_score = show_score(ideal_model)\n",
    "gbr_score"
   ]
  },
  {
   "cell_type": "markdown",
   "id": "60c6189e",
   "metadata": {},
   "source": [
    "#### Decision tree regressor"
   ]
  },
  {
   "cell_type": "code",
   "execution_count": 99,
   "id": "429c667c",
   "metadata": {},
   "outputs": [
    {
     "data": {
      "text/html": [
       "<style>#sk-container-id-8 {color: black;}#sk-container-id-8 pre{padding: 0;}#sk-container-id-8 div.sk-toggleable {background-color: white;}#sk-container-id-8 label.sk-toggleable__label {cursor: pointer;display: block;width: 100%;margin-bottom: 0;padding: 0.3em;box-sizing: border-box;text-align: center;}#sk-container-id-8 label.sk-toggleable__label-arrow:before {content: \"▸\";float: left;margin-right: 0.25em;color: #696969;}#sk-container-id-8 label.sk-toggleable__label-arrow:hover:before {color: black;}#sk-container-id-8 div.sk-estimator:hover label.sk-toggleable__label-arrow:before {color: black;}#sk-container-id-8 div.sk-toggleable__content {max-height: 0;max-width: 0;overflow: hidden;text-align: left;background-color: #f0f8ff;}#sk-container-id-8 div.sk-toggleable__content pre {margin: 0.2em;color: black;border-radius: 0.25em;background-color: #f0f8ff;}#sk-container-id-8 input.sk-toggleable__control:checked~div.sk-toggleable__content {max-height: 200px;max-width: 100%;overflow: auto;}#sk-container-id-8 input.sk-toggleable__control:checked~label.sk-toggleable__label-arrow:before {content: \"▾\";}#sk-container-id-8 div.sk-estimator input.sk-toggleable__control:checked~label.sk-toggleable__label {background-color: #d4ebff;}#sk-container-id-8 div.sk-label input.sk-toggleable__control:checked~label.sk-toggleable__label {background-color: #d4ebff;}#sk-container-id-8 input.sk-hidden--visually {border: 0;clip: rect(1px 1px 1px 1px);clip: rect(1px, 1px, 1px, 1px);height: 1px;margin: -1px;overflow: hidden;padding: 0;position: absolute;width: 1px;}#sk-container-id-8 div.sk-estimator {font-family: monospace;background-color: #f0f8ff;border: 1px dotted black;border-radius: 0.25em;box-sizing: border-box;margin-bottom: 0.5em;}#sk-container-id-8 div.sk-estimator:hover {background-color: #d4ebff;}#sk-container-id-8 div.sk-parallel-item::after {content: \"\";width: 100%;border-bottom: 1px solid gray;flex-grow: 1;}#sk-container-id-8 div.sk-label:hover label.sk-toggleable__label {background-color: #d4ebff;}#sk-container-id-8 div.sk-serial::before {content: \"\";position: absolute;border-left: 1px solid gray;box-sizing: border-box;top: 0;bottom: 0;left: 50%;z-index: 0;}#sk-container-id-8 div.sk-serial {display: flex;flex-direction: column;align-items: center;background-color: white;padding-right: 0.2em;padding-left: 0.2em;position: relative;}#sk-container-id-8 div.sk-item {position: relative;z-index: 1;}#sk-container-id-8 div.sk-parallel {display: flex;align-items: stretch;justify-content: center;background-color: white;position: relative;}#sk-container-id-8 div.sk-item::before, #sk-container-id-8 div.sk-parallel-item::before {content: \"\";position: absolute;border-left: 1px solid gray;box-sizing: border-box;top: 0;bottom: 0;left: 50%;z-index: -1;}#sk-container-id-8 div.sk-parallel-item {display: flex;flex-direction: column;z-index: 1;position: relative;background-color: white;}#sk-container-id-8 div.sk-parallel-item:first-child::after {align-self: flex-end;width: 50%;}#sk-container-id-8 div.sk-parallel-item:last-child::after {align-self: flex-start;width: 50%;}#sk-container-id-8 div.sk-parallel-item:only-child::after {width: 0;}#sk-container-id-8 div.sk-dashed-wrapped {border: 1px dashed gray;margin: 0 0.4em 0.5em 0.4em;box-sizing: border-box;padding-bottom: 0.4em;background-color: white;}#sk-container-id-8 div.sk-label label {font-family: monospace;font-weight: bold;display: inline-block;line-height: 1.2em;}#sk-container-id-8 div.sk-label-container {text-align: center;}#sk-container-id-8 div.sk-container {/* jupyter's `normalize.less` sets `[hidden] { display: none; }` but bootstrap.min.css set `[hidden] { display: none !important; }` so we also need the `!important` here to be able to override the default hidden behavior on the sphinx rendered scikit-learn.org. See: https://github.com/scikit-learn/scikit-learn/issues/21755 */display: inline-block !important;position: relative;}#sk-container-id-8 div.sk-text-repr-fallback {display: none;}</style><div id=\"sk-container-id-8\" class=\"sk-top-container\"><div class=\"sk-text-repr-fallback\"><pre>DecisionTreeRegressor(random_state=0)</pre><b>In a Jupyter environment, please rerun this cell to show the HTML representation or trust the notebook. <br />On GitHub, the HTML representation is unable to render, please try loading this page with nbviewer.org.</b></div><div class=\"sk-container\" hidden><div class=\"sk-item\"><div class=\"sk-estimator sk-toggleable\"><input class=\"sk-toggleable__control sk-hidden--visually\" id=\"sk-estimator-id-12\" type=\"checkbox\" checked><label for=\"sk-estimator-id-12\" class=\"sk-toggleable__label sk-toggleable__label-arrow\">DecisionTreeRegressor</label><div class=\"sk-toggleable__content\"><pre>DecisionTreeRegressor(random_state=0)</pre></div></div></div></div></div>"
      ],
      "text/plain": [
       "DecisionTreeRegressor(random_state=0)"
      ]
     },
     "execution_count": 99,
     "metadata": {},
     "output_type": "execute_result"
    }
   ],
   "source": [
    "from sklearn.tree import DecisionTreeRegressor\n",
    "\n",
    "dtr = DecisionTreeRegressor(random_state = 0)\n",
    "dtr.fit(X_train, y_train)"
   ]
  },
  {
   "cell_type": "code",
   "execution_count": 100,
   "id": "0716d15d",
   "metadata": {},
   "outputs": [
    {
     "data": {
      "text/plain": [
       "{'Training MAE': 0.0,\n",
       " 'Test MAE': 2.1543062200956937,\n",
       " 'Training MSE': 0.0,\n",
       " 'Test MSE': 0.04842033053652147,\n",
       " 'Training RMSE': 0.0,\n",
       " 'Test RMSE': 0.22004620091362967,\n",
       " 'Training R2': 1.0,\n",
       " 'Test R2': 0.006772880793067593}"
      ]
     },
     "execution_count": 100,
     "metadata": {},
     "output_type": "execute_result"
    }
   ],
   "source": [
    "show_score(dtr)"
   ]
  },
  {
   "cell_type": "code",
   "execution_count": 102,
   "id": "99a54243",
   "metadata": {},
   "outputs": [
    {
     "data": {
      "text/plain": [
       "dict_keys(['ccp_alpha', 'criterion', 'max_depth', 'max_features', 'max_leaf_nodes', 'min_impurity_decrease', 'min_samples_leaf', 'min_samples_split', 'min_weight_fraction_leaf', 'random_state', 'splitter'])"
      ]
     },
     "execution_count": 102,
     "metadata": {},
     "output_type": "execute_result"
    }
   ],
   "source": [
    "dtr.get_params().keys()"
   ]
  },
  {
   "cell_type": "code",
   "execution_count": 103,
   "id": "86229acc",
   "metadata": {},
   "outputs": [
    {
     "name": "stdout",
     "output_type": "stream",
     "text": [
      "Fitting 5 folds for each of 100 candidates, totalling 500 fits\n"
     ]
    },
    {
     "name": "stderr",
     "output_type": "stream",
     "text": [
      "/opt/homebrew/lib/python3.11/site-packages/sklearn/model_selection/_validation.py:425: FitFailedWarning: \n",
      "155 fits failed out of a total of 500.\n",
      "The score on these train-test partitions for these parameters will be set to nan.\n",
      "If these failures are not expected, you can try to debug them by setting error_score='raise'.\n",
      "\n",
      "Below are more details about the failures:\n",
      "--------------------------------------------------------------------------------\n",
      "155 fits failed with the following error:\n",
      "Traceback (most recent call last):\n",
      "  File \"/opt/homebrew/lib/python3.11/site-packages/sklearn/model_selection/_validation.py\", line 732, in _fit_and_score\n",
      "    estimator.fit(X_train, y_train, **fit_params)\n",
      "  File \"/opt/homebrew/lib/python3.11/site-packages/sklearn/base.py\", line 1144, in wrapper\n",
      "    estimator._validate_params()\n",
      "  File \"/opt/homebrew/lib/python3.11/site-packages/sklearn/base.py\", line 637, in _validate_params\n",
      "    validate_parameter_constraints(\n",
      "  File \"/opt/homebrew/lib/python3.11/site-packages/sklearn/utils/_param_validation.py\", line 95, in validate_parameter_constraints\n",
      "    raise InvalidParameterError(\n",
      "sklearn.utils._param_validation.InvalidParameterError: The 'max_features' parameter of DecisionTreeRegressor must be an int in the range [1, inf), a float in the range (0.0, 1.0], a str among {'sqrt', 'log2'} or None. Got 'auto' instead.\n",
      "\n",
      "  warnings.warn(some_fits_failed_message, FitFailedWarning)\n",
      "/opt/homebrew/lib/python3.11/site-packages/sklearn/model_selection/_search.py:976: UserWarning: One or more of the test scores are non-finite: [0.24742458 0.2870401         nan 0.14861839        nan 0.44606784\n",
      " 0.4240358         nan        nan        nan 0.35349057        nan\n",
      "        nan 0.25282541 0.24863153 0.31269563 0.39363075 0.28270896\n",
      " 0.31959212 0.24763147 0.27913495        nan        nan 0.38265194\n",
      " 0.36223592 0.42081811 0.35813802 0.30557159 0.30127844 0.30244419\n",
      "        nan 0.25874068 0.31518593 0.44798316        nan 0.43977998\n",
      "        nan        nan 0.35978333 0.43437126 0.38195638        nan\n",
      " 0.24419733 0.43297212 0.37487596        nan 0.42669259 0.34071245\n",
      " 0.24025072        nan        nan 0.3633182         nan 0.29369659\n",
      " 0.36188268        nan 0.44153638 0.40502071 0.28662696 0.23208326\n",
      " 0.38456283 0.40202304        nan 0.35358558        nan 0.34926768\n",
      " 0.4290994  0.22300634 0.23686489 0.33002075        nan 0.33544192\n",
      "        nan 0.43361379 0.27819572 0.38811124        nan 0.41081279\n",
      " 0.40344089        nan 0.42006323 0.25437981 0.25789537        nan\n",
      " 0.31158022        nan 0.36327665 0.25459378 0.35489673 0.35665024\n",
      " 0.33142615 0.38553727 0.40622256 0.38481502        nan        nan\n",
      " 0.35339274 0.19939101        nan        nan]\n",
      "  warnings.warn(\n"
     ]
    },
    {
     "data": {
      "text/plain": [
       "{'min_samples_split': 10,\n",
       " 'min_samples_leaf': 5,\n",
       " 'max_features': 0.5,\n",
       " 'max_depth': 5}"
      ]
     },
     "execution_count": 103,
     "metadata": {},
     "output_type": "execute_result"
    }
   ],
   "source": [
    "dtr_grid = {\"max_depth\": [None, 1, 2, 5, 7],\n",
    "           \"max_features\": [0.5, 1, \"auto\", \"sqrt\"],\n",
    "           \"min_samples_split\": [2, 5, 10],\n",
    "           \"min_samples_leaf\": [1, 2, 3, 5]}\n",
    "\n",
    "dtr_model = RandomizedSearchCV(DecisionTreeRegressor(),\n",
    "                              param_distributions=dtr_grid,\n",
    "                              n_iter=100,  # n_iter = 100 means that the model will fit 100 for different combinations of parameters\n",
    "                              cv=5,  # number of cross-validation folds for each set of parameters\n",
    "                              verbose=True)  # requesting more elaborate output in the log\n",
    "\n",
    "dtr_model.fit(X_train, y_train)\n",
    "dtr_model.best_params_"
   ]
  },
  {
   "cell_type": "code",
   "execution_count": 104,
   "id": "9dfeb453",
   "metadata": {},
   "outputs": [
    {
     "data": {
      "text/plain": [
       "{'Training MAE': 1.46900238437668,\n",
       " 'Test MAE': 1.635441992738768,\n",
       " 'Training MSE': 0.021611859843957536,\n",
       " 'Test MSE': 0.027533556077576512,\n",
       " 'Training RMSE': 0.14700972703857912,\n",
       " 'Test RMSE': 0.16593238405319352,\n",
       " 'Training R2': 0.5951372332044185,\n",
       " 'Test R2': 0.46710954351946077}"
      ]
     },
     "execution_count": 104,
     "metadata": {},
     "output_type": "execute_result"
    }
   ],
   "source": [
    "ideal_model = DecisionTreeRegressor(min_samples_split = 5, min_samples_leaf= 5, max_features= 0.5, max_depth = 7)\n",
    "ideal_model.fit(X_train, y_train)\n",
    "dtr_score = show_score(ideal_model)\n",
    "dtr_score"
   ]
  },
  {
   "cell_type": "code",
   "execution_count": 105,
   "id": "30ef8533",
   "metadata": {},
   "outputs": [
    {
     "name": "stdout",
     "output_type": "stream",
     "text": [
      "Here are the final train and test R2 scores after grid search:\n",
      "Random Forest;            Train: 0.7661319724202019      Test:  0.5649512179927476\n",
      "Gradient Boosting;        Train: 0.7437087761011492      Test:  0.5468695006164538\n",
      "Decision Tree Regressor;  Train: 0.5951372332044185      Test:  0.46710954351946077\n"
     ]
    }
   ],
   "source": [
    "print(\"Here are the final train and test R2 scores after grid search:\")\n",
    "print(\"Random Forest;            Train:\", rf_score.get(\"Training R2\"), \"     Test: \", rf_score.get(\"Test R2\"))\n",
    "print(\"Gradient Boosting;        Train:\", gbr_score.get(\"Training R2\"), \"     Test: \", gbr_score.get(\"Test R2\"))\n",
    "print(\"Decision Tree Regressor;  Train:\", dtr_score.get(\"Training R2\"), \"     Test: \", dtr_score.get(\"Test R2\"))"
   ]
  },
  {
   "cell_type": "markdown",
   "id": "475296cf",
   "metadata": {},
   "source": [
    "### Hence, The best model out of the three after hyperparameter tuning is Random Forest."
   ]
  }
 ],
 "metadata": {
  "kernelspec": {
   "display_name": "Python 3.10.4 64-bit",
   "language": "python",
   "name": "python3"
  },
  "language_info": {
   "codemirror_mode": {
    "name": "ipython",
    "version": 3
   },
   "file_extension": ".py",
   "mimetype": "text/x-python",
   "name": "python",
   "nbconvert_exporter": "python",
   "pygments_lexer": "ipython3",
   "version": "3.11.4"
  },
  "papermill": {
   "default_parameters": {},
   "duration": 202.18184,
   "end_time": "2022-06-12T03:50:03.012332",
   "environment_variables": {},
   "exception": null,
   "input_path": "__notebook__.ipynb",
   "output_path": "__notebook__.ipynb",
   "parameters": {},
   "start_time": "2022-06-12T03:46:40.830492",
   "version": "2.3.4"
  },
  "vscode": {
   "interpreter": {
    "hash": "369f2c481f4da34e4445cda3fffd2e751bd1c4d706f27375911949ba6bb62e1c"
   }
  }
 },
 "nbformat": 4,
 "nbformat_minor": 5
}
